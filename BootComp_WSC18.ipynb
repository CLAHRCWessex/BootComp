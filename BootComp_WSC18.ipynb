{
 "cells": [
  {
   "cell_type": "markdown",
   "metadata": {},
   "source": [
    "# Bootstrap multiple comparisons tutorial (WSC18)"
   ]
  },
  {
   "cell_type": "markdown",
   "metadata": {},
   "source": [
    "This Jupyter _Python 3_ notebook has been written to accompany the WSC18 paper:\n",
    "\n",
    "**PRACTICAL CONSIDERATIONS IN SELECTING THE BEST SET OF SIMULATED SYSTEMS**  _by Christine Currie and Tom Monks_.\n",
    "\n",
    "The notebook provides a worked example of using BootComp to conduct a 2 stage screening and search of a simulation model.  "
   ]
  },
  {
   "cell_type": "markdown",
   "metadata": {},
   "source": [
    "## 1. Preamble"
   ]
  },
  {
   "cell_type": "markdown",
   "metadata": {},
   "source": [
    "### 1.1. Detail of the simulation model"
   ]
  },
  {
   "cell_type": "markdown",
   "metadata": {},
   "source": [
    "The simulation model was used in a 2017 project in the UK to help a hospital, a community healthcare provider and a clinical commissioning group design and plan a new community rehabilitation ward.  In the UK, patients who require rehabilitation are often stuck in a queuing system where there must wait (inappropriately) in a acute hospital bed for a space in the rehabilitaiton ward.  The model investigated the sizing of the new ward in order to minimise patient waiting time whilst meeting probabilitic constraints regarding ward occupancy (bed utilization) and the number of transfers between single sex bays."
   ]
  },
  {
   "cell_type": "markdown",
   "metadata": {},
   "source": [
    "<img src=\"images/DToC.jpg\" alt=\"Delayed Transfers of Care Model\" title=\"Simulation Model and KPIs\" />"
   ]
  },
  {
   "cell_type": "markdown",
   "metadata": {},
   "source": [
    "### 1.2. Output data"
   ]
  },
  {
   "cell_type": "markdown",
   "metadata": {},
   "source": [
    "The output data for the example analysis are bundled with git repository.  There are three .csv files in the data/ directory for 'waiting times', 'utilization' and 'transfers'.  \n",
    "\n",
    "The model itself is not needed.  There are 50 replications of 1151 competing designs points.  Users can vary the number of replications used in the two stage procedure.  \n",
    "\n",
    "The experimental design is also included for reference."
   ]
  },
  {
   "cell_type": "markdown",
   "metadata": {},
   "source": [
    "## 2. Prerequisites"
   ]
  },
  {
   "cell_type": "markdown",
   "metadata": {},
   "source": [
    "### 2.1. BootComp Modules"
   ]
  },
  {
   "cell_type": "code",
   "execution_count": 1,
   "metadata": {
    "collapsed": true
   },
   "outputs": [],
   "source": [
    "import Bootstrap as bs\n",
    "import BootIO as io\n",
    "import ConvFuncs as cf"
   ]
  },
  {
   "cell_type": "code",
   "execution_count": 2,
   "metadata": {
    "collapsed": true
   },
   "outputs": [],
   "source": [
    "#WSC18 specific\n",
    "import Bootstrap_crn as crn\n",
    "from Bootstrap_crn import bootstrap_chance_constraint"
   ]
  },
  {
   "cell_type": "markdown",
   "metadata": {},
   "source": [
    "### 2.2. Python Data Science Modules"
   ]
  },
  {
   "cell_type": "code",
   "execution_count": 3,
   "metadata": {
    "collapsed": true
   },
   "outputs": [],
   "source": [
    "import pandas as pd\n",
    "import numpy as np\n",
    "import matplotlib.pyplot as plt\n",
    "%matplotlib inline"
   ]
  },
  {
   "cell_type": "markdown",
   "metadata": {},
   "source": [
    "## 3. Procedure: Stage 1"
   ]
  },
  {
   "cell_type": "markdown",
   "metadata": {},
   "source": [
    "** Optimization Parameters **"
   ]
  },
  {
   "cell_type": "markdown",
   "metadata": {},
   "source": [
    "N_BOOTS = no. bootstraps to perform\n",
    "\n",
    "** Stage 1 **\n",
    "\n",
    "$n_1$ = no. stage 1 indeptendent replications for each systems / competing design\n",
    "\n",
    "$p_1$ = percentage of bootstrap samples that must meet chance constraint in stage 1\n",
    "\n",
    "$y_1$ proportion of bootstrap samples of primary KPI that must be within $x_1$ percent of the best system\n",
    "\n",
    "** Stage 2 **\n",
    "\n",
    "$n_2$ = no. stage 2 independent replications for each system / competigin design\n",
    "\n",
    "$p_1$ = percentage of bootstrap samples that must meet chance constraint in stage 2\n",
    "\n",
    "$y_1$ proportion of bootstrap samples of primary KPI that must be within $x_1$ percent of the best system in stage 2"
   ]
  },
  {
   "cell_type": "code",
   "execution_count": 4,
   "metadata": {
    "collapsed": true
   },
   "outputs": [],
   "source": [
    "N_BOOTS = 1000\n",
    "n_1 = 5\n",
    "n_2 = 45\n",
    "\n",
    "gamma_1 = 0.7\n",
    "x_1 = 0.1 \n",
    "y_1 = 0.95\n",
    "\n",
    "gamma_2 = 0.95\n",
    "x_2 = 0.05\n",
    "y_2 = 0.95\n"
   ]
  },
  {
   "cell_type": "markdown",
   "metadata": {},
   "source": [
    "** Chance constraints **"
   ]
  },
  {
   "cell_type": "code",
   "execution_count": 5,
   "metadata": {
    "collapsed": true
   },
   "outputs": [],
   "source": [
    "min_util = 80 # ward occupancy >= 80%\n",
    "max_tran = 50 # transfers between single sex bays <= 50"
   ]
  },
  {
   "cell_type": "markdown",
   "metadata": {},
   "source": [
    "### Step 1: Read in initial $ n_1 $  replications"
   ]
  },
  {
   "cell_type": "code",
   "execution_count": 6,
   "metadata": {
    "collapsed": true
   },
   "outputs": [],
   "source": [
    "\n",
    "INPUT_DATA1 = \"data/replications_wait_times.csv\"\n",
    "INPUT_DATA2 = \"data/replications_util.csv\"\n",
    "INPUT_DATA3 = \"data/replications_transfers.csv\"\n",
    "DESIGN = \"data/doe.csv\""
   ]
  },
  {
   "cell_type": "code",
   "execution_count": 7,
   "metadata": {
    "collapsed": false
   },
   "outputs": [
    {
     "name": "stdout",
     "output_type": "stream",
     "text": [
      "Loaded waiting time data. 1051 systems; 5 replications\n",
      "Loaded utilzation data. 1051 systems; 5 replications\n",
      "Loaded transfers data. 1051 systems; 5 replications\n"
     ]
    }
   ],
   "source": [
    "system_data_wait = crn.load_systems(INPUT_DATA1, exclude_reps = 50-n_1)\n",
    "system_data_util = crn.load_systems(INPUT_DATA2, exclude_reps = 50-n_1)\n",
    "system_data_tran = crn.load_systems(INPUT_DATA3, exclude_reps = 50-n_1)\n",
    "\n",
    "N_SCENARIOS = system_data_wait.shape[1]\n",
    "N_REPS = system_data_wait.shape[0]\n",
    "\n",
    "print(\"Loaded waiting time data. {0} systems; {1} replications\".format(system_data_wait.shape[1], system_data_wait.shape[0]))\n",
    "print(\"Loaded utilzation data. {0} systems; {1} replications\".format(system_data_util.shape[1], system_data_util.shape[0]))\n",
    "print(\"Loaded transfers data. {0} systems; {1} replications\".format(system_data_tran.shape[1], system_data_tran.shape[0]))"
   ]
  },
  {
   "cell_type": "code",
   "execution_count": 8,
   "metadata": {
    "collapsed": true
   },
   "outputs": [],
   "source": [
    "df_tran = pd.DataFrame(system_data_tran)\n",
    "df_util = pd.DataFrame(system_data_util)\n",
    "df_wait = pd.DataFrame(system_data_wait)"
   ]
  },
  {
   "cell_type": "markdown",
   "metadata": {},
   "source": [
    "### Step 2: Limit to systems that satisfy chance constraints"
   ]
  },
  {
   "cell_type": "markdown",
   "metadata": {},
   "source": [
    "Bootstrap function arguments"
   ]
  },
  {
   "cell_type": "code",
   "execution_count": 9,
   "metadata": {
    "collapsed": true
   },
   "outputs": [],
   "source": [
    "args =  bs.BootstrapArguments()\n",
    "\n",
    "args.nboots = N_BOOTS\n",
    "args.nscenarios = N_SCENARIOS\n",
    "args.point_estimate_func = bs.bootstrap_mean\n"
   ]
  },
  {
   "cell_type": "markdown",
   "metadata": {},
   "source": [
    "#### Chance constraint 1:  Utilisation Threshold (value for money)"
   ]
  },
  {
   "cell_type": "code",
   "execution_count": 10,
   "metadata": {
    "collapsed": true
   },
   "outputs": [],
   "source": [
    "passed_1 = bootstrap_chance_constraint(data = system_data_util.T, threshold=min_util, boot_args=args, gamma=gamma_1)"
   ]
  },
  {
   "cell_type": "code",
   "execution_count": null,
   "metadata": {
    "collapsed": false
   },
   "outputs": [
    {
     "data": {
      "text/plain": [
       "Int64Index([  0,   1,   2,   3,   4,   5,   6,   7,   8,   9,\n",
       "            ...\n",
       "            421, 422, 423, 424, 425, 426, 427, 428, 429, 430],\n",
       "           dtype='int64', length=429)"
      ]
     },
     "execution_count": 11,
     "metadata": {},
     "output_type": "execute_result"
    }
   ],
   "source": [
    "passed_1"
   ]
  },
  {
   "cell_type": "markdown",
   "metadata": {},
   "source": [
    "#### Chance constraint 2: Upper bound on transfers between bays"
   ]
  },
  {
   "cell_type": "code",
   "execution_count": null,
   "metadata": {
    "collapsed": true
   },
   "outputs": [],
   "source": [
    "passed_2 = bootstrap_chance_constraint(data = system_data_tran.T, threshold=max_tran, boot_args=args, \n",
    "                                       gamma=gamma_1, kind='upper')"
   ]
  },
  {
   "cell_type": "code",
   "execution_count": null,
   "metadata": {
    "collapsed": false
   },
   "outputs": [],
   "source": [
    "passed_2"
   ]
  },
  {
   "cell_type": "markdown",
   "metadata": {},
   "source": [
    "#### Filter for systems that meet all chance constraints"
   ]
  },
  {
   "cell_type": "code",
   "execution_count": null,
   "metadata": {
    "collapsed": false,
    "scrolled": true
   },
   "outputs": [],
   "source": [
    "subset = np.intersect1d(passed_1, passed_2)\n",
    "subset"
   ]
  },
  {
   "cell_type": "code",
   "execution_count": null,
   "metadata": {
    "collapsed": false
   },
   "outputs": [],
   "source": [
    "subset.shape"
   ]
  },
  {
   "cell_type": "code",
   "execution_count": null,
   "metadata": {
    "collapsed": false,
    "scrolled": true
   },
   "outputs": [],
   "source": [
    "\n",
    "subset_waits = df_wait[subset].mean()\n",
    "subset_waits.rename('wait', inplace=True)\n",
    "subset_utils = df_util[subset].mean()\n",
    "subset_utils.rename('util', inplace=True)\n",
    "subset_tran = df_tran[subset].mean()\n",
    "subset_tran.rename('tran', inplace=True)"
   ]
  },
  {
   "cell_type": "markdown",
   "metadata": {},
   "source": [
    "List and rank the systems along with their peformance measures"
   ]
  },
  {
   "cell_type": "code",
   "execution_count": null,
   "metadata": {
    "collapsed": true
   },
   "outputs": [],
   "source": [
    "subset_kpi = pd.concat([subset_waits, subset_utils, subset_tran], axis=1)"
   ]
  },
  {
   "cell_type": "code",
   "execution_count": null,
   "metadata": {
    "collapsed": false
   },
   "outputs": [],
   "source": [
    "subset_kpi.sort_values(by=['wait', 'util', 'tran'])"
   ]
  },
  {
   "cell_type": "code",
   "execution_count": null,
   "metadata": {
    "collapsed": true
   },
   "outputs": [],
   "source": [
    "best_system_index = subset_kpi.sort_values(by=['wait', 'util', 'tran']).index[0]"
   ]
  },
  {
   "cell_type": "code",
   "execution_count": null,
   "metadata": {
    "collapsed": false
   },
   "outputs": [],
   "source": [
    "best_system_index"
   ]
  },
  {
   "cell_type": "markdown",
   "metadata": {},
   "source": [
    "### Step 3: setup differences"
   ]
  },
  {
   "cell_type": "code",
   "execution_count": null,
   "metadata": {
    "collapsed": true
   },
   "outputs": [],
   "source": [
    "feasible_systems = df_wait[subset]"
   ]
  },
  {
   "cell_type": "code",
   "execution_count": null,
   "metadata": {
    "collapsed": false
   },
   "outputs": [],
   "source": [
    "feasible_systems"
   ]
  },
  {
   "cell_type": "code",
   "execution_count": null,
   "metadata": {
    "collapsed": true
   },
   "outputs": [],
   "source": [
    "diffs =  pd.DataFrame(feasible_systems.as_matrix().T - np.array(feasible_systems[best_system_index])).T\n",
    "diffs.columns = subset"
   ]
  },
  {
   "cell_type": "markdown",
   "metadata": {},
   "source": [
    "### Step 4: Quality Bootstrap i.e. Simple bootstrap of differences"
   ]
  },
  {
   "cell_type": "code",
   "execution_count": null,
   "metadata": {
    "collapsed": true
   },
   "outputs": [],
   "source": [
    "resample_diffs = bs.resample_all_scenarios(diffs.values.T.tolist(), args)"
   ]
  },
  {
   "cell_type": "code",
   "execution_count": null,
   "metadata": {
    "collapsed": false
   },
   "outputs": [],
   "source": [
    "df_boots_diffs= cf.resamples_to_df(resample_diffs, N_BOOTS)\n",
    "df_boots_diffs.columns = subset\n",
    "df_boots_diffs.shape"
   ]
  },
  {
   "cell_type": "markdown",
   "metadata": {},
   "source": [
    "### Step 6: Rank systems  "
   ]
  },
  {
   "cell_type": "code",
   "execution_count": null,
   "metadata": {
    "collapsed": false
   },
   "outputs": [],
   "source": [
    "indifference = feasible_systems[best_system_index].mean() * x_1\n",
    "indifference"
   ]
  },
  {
   "cell_type": "code",
   "execution_count": null,
   "metadata": {
    "collapsed": true
   },
   "outputs": [],
   "source": [
    "#convert numbers to 0 or 1\n",
    "# 1 = difference less than 0.244\n",
    "# 0 = difference greater than 0.244\n",
    "\n",
    "def indifferent(x, indifference):\n",
    "    \"\"\"\n",
    "    \n",
    "    \"\"\"\n",
    "    if x <= indifference:\n",
    "        return 1\n",
    "    else:\n",
    "        return 0"
   ]
  },
  {
   "cell_type": "code",
   "execution_count": null,
   "metadata": {
    "collapsed": false
   },
   "outputs": [],
   "source": [
    "df_indifference = df_boots_diffs.applymap(lambda x: indifferent(x, indifference))\n",
    "df_indifference"
   ]
  },
  {
   "cell_type": "markdown",
   "metadata": {},
   "source": [
    "### Step 7: Define set $J$ where y% of bootstraps are within x% of the best mean"
   ]
  },
  {
   "cell_type": "code",
   "execution_count": null,
   "metadata": {
    "collapsed": true
   },
   "outputs": [],
   "source": [
    "threshold = N_BOOTS * y_1\n",
    "df_within_limit = df_indifference.sum(0)\n",
    "df_within_limit= pd.DataFrame(df_within_limit, columns=['sum'])\n",
    "take_forward = df_within_limit.loc[df_within_limit['sum'] >= threshold].index"
   ]
  },
  {
   "cell_type": "code",
   "execution_count": null,
   "metadata": {
    "collapsed": false
   },
   "outputs": [],
   "source": [
    "take_forward"
   ]
  },
  {
   "cell_type": "code",
   "execution_count": null,
   "metadata": {
    "collapsed": true
   },
   "outputs": [],
   "source": [
    "no_stage1 = take_forward.shape[0]"
   ]
  },
  {
   "cell_type": "markdown",
   "metadata": {},
   "source": [
    "_Quick look at stage 1 results_"
   ]
  },
  {
   "cell_type": "code",
   "execution_count": null,
   "metadata": {
    "collapsed": false
   },
   "outputs": [],
   "source": [
    "\n",
    "df_doe = pd.read_csv(DESIGN, index_col='System')\n",
    "df_doe.index -= 1\n",
    "subset_kpi=  subset_kpi[subset_kpi.index.isin(take_forward)]\n",
    "temp = df_doe[df_doe.index.isin(take_forward)]\n",
    "df_stage1 = pd.concat([temp, subset_kpi], axis=1)\n",
    "df_stage1.sort_values(by=['wait', 'util', 'tran'])"
   ]
  },
  {
   "cell_type": "markdown",
   "metadata": {},
   "source": [
    "## 4. Procedure - Stage 2"
   ]
  },
  {
   "cell_type": "markdown",
   "metadata": {},
   "source": [
    "### Step 8: More replicates of promicing solutions using Common Random Numbers"
   ]
  },
  {
   "cell_type": "markdown",
   "metadata": {},
   "source": [
    "User simulates $ n_2 $ additional replicates for the feasible solutions brought forward from stage 1.\n",
    "\n",
    "Example = 50 replicates (45 extra)"
   ]
  },
  {
   "cell_type": "code",
   "execution_count": null,
   "metadata": {
    "collapsed": false
   },
   "outputs": [],
   "source": [
    "df_wait_s2 = pd.DataFrame(crn.load_systems(INPUT_DATA1))[take_forward]\n",
    "df_util_s2 = pd.DataFrame(crn.load_systems(INPUT_DATA2))[take_forward]\n",
    "df_tran_s2 = pd.DataFrame(crn.load_systems(INPUT_DATA3))[take_forward]\n",
    "\n",
    "N_SCENARIOS = df_wait_s2.shape[1]\n",
    "N_REPS = df_wait_s2.shape[0]\n",
    "\n",
    "print(\"Loaded waiting time data. {0} systems; {1} replications\".format(df_wait_s2.shape[1], df_wait_s2.shape[0]))\n",
    "print(\"Loaded utilzation data. {0} systems; {1} replications\".format(df_util_s2.shape[1], df_util_s2.shape[0]))\n",
    "print(\"Loaded transfers data. {0} systems; {1} replications\".format(df_tran_s2.shape[1], df_tran_s2.shape[0]))"
   ]
  },
  {
   "cell_type": "markdown",
   "metadata": {},
   "source": [
    "### Step 9: Repeat steps 2 - 6 from stage 1"
   ]
  },
  {
   "cell_type": "markdown",
   "metadata": {},
   "source": [
    "#### Step 2 - Chance contraints"
   ]
  },
  {
   "cell_type": "code",
   "execution_count": null,
   "metadata": {
    "collapsed": true
   },
   "outputs": [],
   "source": [
    "passed_1 = bootstrap_chance_constraint(data = df_util_s2.values.T, threshold=min_util, boot_args=args, gamma=gamma_2)"
   ]
  },
  {
   "cell_type": "code",
   "execution_count": null,
   "metadata": {
    "collapsed": false
   },
   "outputs": [],
   "source": [
    "passed_1"
   ]
  },
  {
   "cell_type": "code",
   "execution_count": null,
   "metadata": {
    "collapsed": false
   },
   "outputs": [],
   "source": [
    "take_forward"
   ]
  },
  {
   "cell_type": "code",
   "execution_count": null,
   "metadata": {
    "collapsed": false
   },
   "outputs": [],
   "source": [
    "cc_1 = np.array([take_forward[x] for x in passed_1])\n",
    "cc_1"
   ]
  },
  {
   "cell_type": "code",
   "execution_count": null,
   "metadata": {
    "collapsed": false
   },
   "outputs": [],
   "source": [
    "cc_1.shape"
   ]
  },
  {
   "cell_type": "code",
   "execution_count": null,
   "metadata": {
    "collapsed": true
   },
   "outputs": [],
   "source": [
    "passed_2 = bootstrap_chance_constraint(data = df_tran_s2.values.T, threshold=max_tran, boot_args=args, gamma=gamma_2, kind='upper')"
   ]
  },
  {
   "cell_type": "code",
   "execution_count": null,
   "metadata": {
    "collapsed": false
   },
   "outputs": [],
   "source": [
    "passed_2"
   ]
  },
  {
   "cell_type": "code",
   "execution_count": null,
   "metadata": {
    "collapsed": false
   },
   "outputs": [],
   "source": [
    "cc_2 = np.array([take_forward[x] for x in passed_2])\n",
    "cc_2"
   ]
  },
  {
   "cell_type": "code",
   "execution_count": null,
   "metadata": {
    "collapsed": false
   },
   "outputs": [],
   "source": [
    "cc_2.shape"
   ]
  },
  {
   "cell_type": "code",
   "execution_count": null,
   "metadata": {
    "collapsed": false
   },
   "outputs": [],
   "source": [
    "subset = np.intersect1d(cc_1, cc_2)\n",
    "subset"
   ]
  },
  {
   "cell_type": "code",
   "execution_count": null,
   "metadata": {
    "collapsed": false
   },
   "outputs": [],
   "source": [
    "subset.shape"
   ]
  },
  {
   "cell_type": "code",
   "execution_count": null,
   "metadata": {
    "collapsed": true
   },
   "outputs": [],
   "source": [
    "def get_subset_kpi(subset):\n",
    "    subset_waits = df_wait_s2[subset].mean()\n",
    "    subset_waits.rename('wait', inplace=True)\n",
    "    subset_utils = df_util_s2[subset].mean()\n",
    "    subset_utils.rename('util', inplace=True)\n",
    "    subset_tran = df_tran_s2[subset].mean()\n",
    "    subset_tran.rename('tran', inplace=True)\n",
    "    \n",
    "    subset_kpi = pd.concat([subset_waits, subset_utils, subset_tran], axis=1)\n",
    "    subset_kpi.index.rename('System', inplace=True)\n",
    "    \n",
    "    return subset_kpi"
   ]
  },
  {
   "cell_type": "code",
   "execution_count": null,
   "metadata": {
    "collapsed": false
   },
   "outputs": [],
   "source": [
    "\n",
    "subset_waits = df_wait_s2[subset].mean()\n",
    "subset_waits.rename('wait', inplace=True)\n",
    "subset_utils = df_util_s2[subset].mean()\n",
    "subset_utils.rename('util', inplace=True)\n",
    "subset_tran = df_tran_s2[subset].mean()\n",
    "subset_tran.rename('tran', inplace=True)"
   ]
  },
  {
   "cell_type": "code",
   "execution_count": null,
   "metadata": {
    "collapsed": true
   },
   "outputs": [],
   "source": [
    "subset_kpi = pd.concat([subset_waits, subset_utils, subset_tran], axis=1)\n",
    "subset_kpi.index.rename('System', inplace=True)"
   ]
  },
  {
   "cell_type": "code",
   "execution_count": null,
   "metadata": {
    "collapsed": false
   },
   "outputs": [],
   "source": [
    "subset_kpi.sort_values(by=['wait', 'util', 'tran'])\n"
   ]
  },
  {
   "cell_type": "code",
   "execution_count": null,
   "metadata": {
    "collapsed": true
   },
   "outputs": [],
   "source": [
    "best_system_index = subset_kpi.sort_values(by=['wait', 'util', 'tran']).index[0]"
   ]
  },
  {
   "cell_type": "code",
   "execution_count": null,
   "metadata": {
    "collapsed": false
   },
   "outputs": [],
   "source": [
    "best_system_index"
   ]
  },
  {
   "cell_type": "markdown",
   "metadata": {},
   "source": [
    "### Step [?]  Setup differences from best (stage 2)"
   ]
  },
  {
   "cell_type": "code",
   "execution_count": null,
   "metadata": {
    "collapsed": true
   },
   "outputs": [],
   "source": [
    "feasible_systems = df_wait_s2[subset]\n",
    "diffs =  pd.DataFrame(feasible_systems.as_matrix().T - np.array(feasible_systems[best_system_index])).T\n",
    "diffs.columns = subset"
   ]
  },
  {
   "cell_type": "markdown",
   "metadata": {},
   "source": [
    "### Bootstrap differences"
   ]
  },
  {
   "cell_type": "code",
   "execution_count": null,
   "metadata": {
    "collapsed": true
   },
   "outputs": [],
   "source": [
    "resample_diffs = bs.resample_all_scenarios(diffs.values.T.tolist(), args)\n"
   ]
  },
  {
   "cell_type": "code",
   "execution_count": null,
   "metadata": {
    "collapsed": false
   },
   "outputs": [],
   "source": [
    "df_boots_diffs= cf.resamples_to_df(resample_diffs, args.nboots)\n",
    "df_boots_diffs.columns = subset\n",
    "df_boots_diffs.shape"
   ]
  },
  {
   "cell_type": "code",
   "execution_count": null,
   "metadata": {
    "collapsed": false
   },
   "outputs": [],
   "source": [
    "indifference = feasible_systems[best_system_index].mean() * x_2\n",
    "indifference"
   ]
  },
  {
   "cell_type": "code",
   "execution_count": null,
   "metadata": {
    "collapsed": false
   },
   "outputs": [],
   "source": [
    "df_indifference = df_boots_diffs.applymap(lambda x: indifferent(x, indifference))\n",
    "df_indifference"
   ]
  },
  {
   "cell_type": "code",
   "execution_count": null,
   "metadata": {
    "collapsed": true
   },
   "outputs": [],
   "source": [
    "threshold = args.nboots * y_2\n",
    "df_within_limit = df_indifference.sum(0)\n",
    "df_within_limit= pd.DataFrame(df_within_limit, columns=['sum'])\n",
    "final_set = df_within_limit.loc[df_within_limit['sum'] >= threshold].index"
   ]
  },
  {
   "cell_type": "code",
   "execution_count": null,
   "metadata": {
    "collapsed": false
   },
   "outputs": [],
   "source": [
    "final_set"
   ]
  },
  {
   "cell_type": "markdown",
   "metadata": {},
   "source": [
    "Final set of feasible systems selected from the competing designs"
   ]
  },
  {
   "cell_type": "code",
   "execution_count": null,
   "metadata": {
    "collapsed": true
   },
   "outputs": [],
   "source": [
    "df_doe = pd.read_csv(DESIGN, index_col='System')\n",
    "df_doe.index -= 1\n",
    "#subtract 1 from index so taht it matches zero indexing in analysis.\n",
    "\n"
   ]
  },
  {
   "cell_type": "code",
   "execution_count": null,
   "metadata": {
    "collapsed": false
   },
   "outputs": [],
   "source": [
    "subset_kpi = get_subset_kpi(final_set)\n",
    "subset_kpi"
   ]
  },
  {
   "cell_type": "code",
   "execution_count": null,
   "metadata": {
    "collapsed": false
   },
   "outputs": [],
   "source": [
    "temp = df_doe[df_doe.index.isin(final_set)]\n",
    "#subset_kpi = subset_kpi.applymap(lambda x: '%.4f' % x)\n",
    "df_final = pd.concat([temp, subset_kpi], axis=1)\n",
    "df_final.sort_values(by=['wait', 'util', 'tran'])\n"
   ]
  },
  {
   "cell_type": "code",
   "execution_count": null,
   "metadata": {
    "collapsed": false
   },
   "outputs": [],
   "source": [
    "print('No. in final set {0}'.format(df_final.shape[0]))"
   ]
  },
  {
   "cell_type": "code",
   "execution_count": null,
   "metadata": {
    "collapsed": false
   },
   "outputs": [],
   "source": [
    "print('No. taken forward from stage 1: {0}'.format(no_stage1))"
   ]
  },
  {
   "cell_type": "code",
   "execution_count": null,
   "metadata": {
    "collapsed": true
   },
   "outputs": [],
   "source": [
    "df_final.to_clipboard(excel=True)"
   ]
  },
  {
   "cell_type": "markdown",
   "metadata": {},
   "source": [
    "## Charts for paper"
   ]
  },
  {
   "cell_type": "code",
   "execution_count": null,
   "metadata": {
    "collapsed": true
   },
   "outputs": [],
   "source": [
    "df_doe = pd.read_csv(DESIGN, index_col='System')\n",
    "df_doe.index -= 1"
   ]
  },
  {
   "cell_type": "markdown",
   "metadata": {},
   "source": [
    "Utilisation"
   ]
  },
  {
   "cell_type": "code",
   "execution_count": null,
   "metadata": {
    "collapsed": false
   },
   "outputs": [],
   "source": [
    "temp = df_doe.loc[df_doe['Number of Bays']==0]\n",
    "#temp.index += 1\n",
    "subset_waits = df_wait[temp.index].mean()\n",
    "subset_waits.rename('wait', inplace=True)\n",
    "subset_utils = df_util[temp.index].mean()\n",
    "subset_utils.rename('util', inplace=True)\n",
    "subset_trans = df_tran[temp.index].mean()\n",
    "subset_trans.rename('tran', inplace=True)\n",
    "\n",
    "\n",
    "\n",
    "subset_utils_sem = df_util[temp.index].sem()\n",
    "subset_utils_sem.rename('util_sem', inplace=True)\n",
    "\n",
    "subset_utils_count = df_util[temp.index].count()\n",
    "subset_utils_count.rename('n_util', inplace=True)\n",
    "\n",
    "import scipy as sp\n",
    "import scipy.stats\n",
    "\n",
    "subset_kpi = pd.concat([temp, subset_waits, subset_utils, subset_trans, subset_utils_sem, subset_utils_count], axis = 1)\n",
    "subset_kpi['Waiting Time (hrs)'] = round(subset_kpi['wait']*24, 2)\n",
    "\n",
    "confidence = 0.95\n",
    "\n",
    "subset_kpi['hw_95'] = subset_kpi['util_sem'] * sp.stats.t.ppf((1+confidence)/2., subset_kpi['n_util']-1)\n",
    "\n",
    "#fig = plt.figure()\n",
    "#ax = fig.add_subplot(111)\n",
    "fig, axes = plt.subplots(nrows=1, ncols=2, sharey=False)\n",
    "\n",
    "subset_kpi.sort_values('util').plot(y = 'util', x= 'Number of Singles', figsize=(20, 8), fontsize = 14, \n",
    "                                    linewidth=3, legend =False, kind='scatter', ax=axes[1], xticks=[x for x in range(43, 56, 1)], xlim=(42, 56), yerr='hw_95')#, xlim=(70, 92), ylim=(0, 35))\n",
    "axes[1].set_ylabel('Mean Waiting Time (hrs)', fontsize = 14)\n",
    "axes[1].set_xlabel('Number of Singles (beds)', fontsize = 14)\n",
    "\n",
    "\n",
    "\n",
    "\n",
    "subset_kpi.plot('Number of Singles', 'Waiting Time (hrs)', figsize=(20, 8), fontsize = 14, \n",
    "                                    linewidth=3, legend =False, kind='line', ms=10, style='o-', ax=axes[0], xlim=(42, 56),\n",
    "                                    xticks=[x for x in range(43, 56, 1)])\n",
    "axes[0].set_xlabel('No of Singles (beds)', fontsize = 14)\n",
    "axes[0].set_ylabel('Mean Utilization (% beds)', fontsize = 14)\n",
    "axes[0].grid(True)\n",
    "axes[1].grid(True)\n",
    "axes[1].legend(['mean (n=5)','95% Confidence Interval'],fontsize=14)\n",
    "#plt.tight_layout()"
   ]
  },
  {
   "cell_type": "code",
   "execution_count": null,
   "metadata": {
    "collapsed": true
   },
   "outputs": [],
   "source": [
    "fig.savefig(\"chance_constraint_stage1.pdf\", format = 'pdf', dpi=300, bbox_inches='tight')"
   ]
  },
  {
   "cell_type": "code",
   "execution_count": null,
   "metadata": {
    "collapsed": false
   },
   "outputs": [],
   "source": [
    "subset_kpi"
   ]
  },
  {
   "cell_type": "markdown",
   "metadata": {},
   "source": [
    "Patient transfers between bays of beds"
   ]
  },
  {
   "cell_type": "code",
   "execution_count": null,
   "metadata": {
    "collapsed": false
   },
   "outputs": [],
   "source": [
    "temp=df_doe.loc[df_doe['Total beds']<=54]\n",
    "#temp.index += 1\n",
    "subset_waits = df_wait[temp.index].mean()\n",
    "subset_waits.rename('wait', inplace=True)\n",
    "subset_utils = df_tran[temp.index].mean()\n",
    "subset_utils.rename('tran', inplace=True)\n",
    "\n",
    "subset_kpi = pd.concat([temp, subset_waits, subset_utils], axis = 1)\n",
    "subset_kpi['Waiting Time (hrs)'] = round(subset_kpi['wait']*24, 2)\n",
    "\n",
    "subset_kpi.head()"
   ]
  },
  {
   "cell_type": "code",
   "execution_count": null,
   "metadata": {
    "collapsed": false
   },
   "outputs": [],
   "source": [
    "import scipy as sp\n",
    "import scipy.stats\n",
    "\n",
    "means = subset_kpi.groupby(['Size of Bays'])['tran'].mean()\n",
    "means.rename('mean', inplace=True)\n",
    "sems = subset_kpi.groupby(['Size of Bays'])['tran'].sem()\n",
    "sems.rename('sem', inplace=True)\n",
    "counts = subset_kpi.groupby(['Size of Bays'])['tran'].count()\n",
    "counts.rename('n', inplace=True)\n",
    "\n",
    "\n",
    "\n",
    "\n",
    "transfers = pd.concat([means, sems, counts], axis=1)\n",
    "confidence = 0.95\n",
    "\n",
    "transfers['hw_95'] = transfers['sem'] * sp.stats.t.ppf((1+confidence)/2., transfers['n']-1)\n",
    "\n",
    "#fig = plt.figure()\n",
    "#ax = fig.add_subplot(111)\n",
    "fig, axes = plt.subplots(nrows=1, ncols=1)\n",
    "transfers = transfers.loc[transfers.index >0]\n",
    "transfers = transfers.loc[transfers.index <27]\n",
    "transfers.plot(y='mean', x=transfers.index, figsize=(20, 8), fontsize = 14, \n",
    "                              linewidth=3, legend =False, kind='line', ax=axes, yerr='hw_95'\n",
    "              , xlim=(2, 27), xticks=[x for x in range(3, 26, 2)])\n",
    "\n",
    "axes.set_xlabel('Bay Size (beds)', fontsize = 14)\n",
    "\n",
    "axes.set_ylabel('Mean Bay Transfers', fontsize = 14)"
   ]
  },
  {
   "cell_type": "code",
   "execution_count": null,
   "metadata": {
    "collapsed": false
   },
   "outputs": [],
   "source": [
    "transfers"
   ]
  }
 ],
 "metadata": {
  "kernelspec": {
   "display_name": "Python 3",
   "language": "python",
   "name": "python3"
  },
  "language_info": {
   "codemirror_mode": {
    "name": "ipython",
    "version": 3
   },
   "file_extension": ".py",
   "mimetype": "text/x-python",
   "name": "python",
   "nbconvert_exporter": "python",
   "pygments_lexer": "ipython3",
   "version": "3.6.0"
  }
 },
 "nbformat": 4,
 "nbformat_minor": 2
}

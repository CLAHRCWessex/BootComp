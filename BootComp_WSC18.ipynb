{
 "cells": [
  {
   "cell_type": "markdown",
   "metadata": {},
   "source": [
    "# BootComp Tutorial (WSC18)"
   ]
  },
  {
   "cell_type": "markdown",
   "metadata": {},
   "source": [
    "This Jupyter _Python 3_ notebook has been written to accompany the WSC18 paper:\n",
    "\n",
    "**PRACTICAL CONSIDERATIONS IN SELECTING THE BEST SET OF SIMULATED SYSTEMS**  _by Christine Currie and Tom Monks_.\n",
    "\n",
    "The notebook provides a worked example of using BootComp to conduct a 2 stage screening and search of a simulation model.  "
   ]
  },
  {
   "cell_type": "markdown",
   "metadata": {},
   "source": [
    "## 1. Preamble"
   ]
  },
  {
   "cell_type": "markdown",
   "metadata": {},
   "source": [
    "### 1.1. Detail of the simulation model"
   ]
  },
  {
   "cell_type": "markdown",
   "metadata": {},
   "source": [
    "The simulation model was used in a 2017 project in the UK to help a hospital, a community healthcare provider and a clinical commissioning group design and plan a new community rehabilitation ward.  In the UK, patients who require rehabilitation are often stuck in a queuing system where there must wait (inappropriately) in a acute hospital bed for a space in the rehabilitaiton ward.  The model investigated the sizing of the new ward in order to minimise patient waiting time whilst meeting probabilitic constraints regarding ward occupancy (bed utilization) and the number of transfers between single sex bays."
   ]
  },
  {
   "cell_type": "markdown",
   "metadata": {},
   "source": [
    "<img src=\"images/DToC.jpg\" alt=\"Delayed Transfers of Care Model\" title=\"Simulation Model and KPIs\" />"
   ]
  },
  {
   "cell_type": "markdown",
   "metadata": {},
   "source": [
    "### 1.2. Output data"
   ]
  },
  {
   "cell_type": "markdown",
   "metadata": {},
   "source": [
    "The output data for the example analysis are bundled with git repository.  There are three .csv files in the data/ directory for 'waiting times', 'utilization' and 'transfers'.  \n",
    "\n",
    "The model itself is not needed.  There are 50 replications of 1151 competing designs points.  Users can vary the number of replications used in the two stage procedure.  \n",
    "\n",
    "The experimental design is also included for reference."
   ]
  },
  {
   "cell_type": "markdown",
   "metadata": {},
   "source": [
    "## 2. Prerequisites"
   ]
  },
  {
   "cell_type": "markdown",
   "metadata": {},
   "source": [
    "### 2.1. BootComp Modules for WSC18 Paper"
   ]
  },
  {
   "cell_type": "code",
   "execution_count": 1,
   "metadata": {
    "collapsed": true
   },
   "outputs": [],
   "source": [
    "import helper_wsc18 as wsc\n",
    "from Bootstrap_wsc18 import constraints_bootstrap, quality_bootstrap\n",
    "from helper_wsc18 import best_subset_table, get_best_subset, load_model_file\n"
   ]
  },
  {
   "cell_type": "markdown",
   "metadata": {},
   "source": [
    "### 2.2. Python Data Science Modules"
   ]
  },
  {
   "cell_type": "code",
   "execution_count": 2,
   "metadata": {
    "collapsed": true
   },
   "outputs": [],
   "source": [
    "import pandas as pd\n",
    "import numpy as np\n",
    "\n",
    "import matplotlib.pyplot as plt\n",
    "%matplotlib inline\n",
    "import seaborn as sns"
   ]
  },
  {
   "cell_type": "markdown",
   "metadata": {},
   "source": [
    "## 3. Procedure: Stage 1"
   ]
  },
  {
   "cell_type": "markdown",
   "metadata": {},
   "source": [
    "** Optimization Parameters **"
   ]
  },
  {
   "cell_type": "markdown",
   "metadata": {},
   "source": [
    "N_BOOTS = no. bootstraps to perform\n",
    "\n",
    "** Stage 1 **\n",
    "\n",
    "$n_1$ = no. stage 1 indeptendent replications for each systems / competing design\n",
    "\n",
    "$p_1$ = percentage of bootstrap samples that must meet chance constraint in stage 1\n",
    "\n",
    "$y_1$ proportion of bootstrap samples of primary KPI that must be within $x_1$ percent of the best system\n",
    "\n",
    "** Stage 2 **\n",
    "\n",
    "$n_2$ = no. stage 2 independent replications for each system / competigin design\n",
    "\n",
    "$p_1$ = percentage of bootstrap samples that must meet chance constraint in stage 2\n",
    "\n",
    "$y_1$ proportion of bootstrap samples of primary KPI that must be within $x_1$ percent of the best system in stage 2"
   ]
  },
  {
   "cell_type": "code",
   "execution_count": 3,
   "metadata": {},
   "outputs": [],
   "source": [
    "N_BOOTS = 1000\n",
    "n_1 = 10\n",
    "n_2 = 50\n",
    "\n",
    "gamma_1 = 0.8\n",
    "x_1 = 0.3 \n",
    "y_1 = 0.8\n",
    "\n",
    "gamma_2 = 0.95\n",
    "x_2 = 0.05\n",
    "y_2 = 0.95\n"
   ]
  },
  {
   "cell_type": "markdown",
   "metadata": {},
   "source": [
    "** Chance constraints **"
   ]
  },
  {
   "cell_type": "code",
   "execution_count": 4,
   "metadata": {
    "collapsed": true
   },
   "outputs": [],
   "source": [
    "min_util = 80 # ward occupancy >= 80%\n",
    "max_tran = 50 # transfers between single sex bays <= 50"
   ]
  },
  {
   "cell_type": "markdown",
   "metadata": {},
   "source": [
    "### Stage 1: Read in initial $ n_1 $  replications"
   ]
  },
  {
   "cell_type": "code",
   "execution_count": 5,
   "metadata": {},
   "outputs": [],
   "source": [
    "DESIGN = \"data/doe.csv\"\n",
    "MODEL_PATH = \"data/wsc18_reps\""
   ]
  },
  {
   "cell_type": "code",
   "execution_count": 7,
   "metadata": {},
   "outputs": [
    {
     "name": "stdout",
     "output_type": "stream",
     "text": [
      "Loaded waiting time data. 1051 systems; 10 replications\n",
      "Loaded utilzation data. 1051 systems; 10 replications\n",
      "Loaded transfers data. 1051 systems; 10 replications\n"
     ]
    }
   ],
   "source": [
    "df_wait, df_util, df_tran = wsc.simulate_stage_1(n_1, load_model_file(MODEL_PATH))"
   ]
  },
  {
   "cell_type": "code",
   "execution_count": 8,
   "metadata": {},
   "outputs": [
    {
     "data": {
      "text/plain": [
       "(10, 1051)"
      ]
     },
     "execution_count": 8,
     "metadata": {},
     "output_type": "execute_result"
    }
   ],
   "source": [
    "df_wait.shape"
   ]
  },
  {
   "cell_type": "markdown",
   "metadata": {},
   "source": [
    "### Stage 1: Limit to systems that satisfy chance constraints"
   ]
  },
  {
   "cell_type": "markdown",
   "metadata": {},
   "source": [
    "#### Chance constraint 1:  Utilisation Threshold (value for money)"
   ]
  },
  {
   "cell_type": "code",
   "execution_count": 9,
   "metadata": {
    "collapsed": false
   },
   "outputs": [
    {
     "name": "stdout",
     "output_type": "stream",
     "text": [
      "Help on function constraints_bootstrap in module Bootstrap_wsc18:\n",
      "\n",
      "constraints_bootstrap(data, threshold, nboots=1000, gamma=0.95, kind='lower', cores='single')\n",
      "    Bootstrap a chance constraint for k systems and filter out systems \n",
      "    where p% of resamples are greater a threshold t.  \n",
      "    \n",
      "    Example 1. A lower limit.  If the chance constaint was related to utilization it could be stated as \n",
      "    filter out any systems where 95% of the distribution is greater than 80%.\n",
      "    \n",
      "    Example 2. An upper limit.  If the chance constraint related to unwanted ward transfers it could be stated \n",
      "    as filter out any systems where 95% of the distribution is less than 50 transfers per annum.\n",
      "    \n",
      "    Returns a pandas.Series containing of the feasible systems i.e. that do not violate the chance constraint.\n",
      "    \n",
      "    Keyword arguments\n",
      "    data -- a numpy array of the data to bootstrap\n",
      "    threshold -- the threshold of the chance constraint\n",
      "    boot_args -- the bootstrap setup class\n",
      "    gamma -- the probability cut of for the chance constraint  (default p = 0.95)\n",
      "    kind -- 'lower' = a lower limit threshold; 'upper' = an upper limit threshold (default = 'lower')\n",
      "    cores - single ('single' or 's') core or parallel ('p' or 'parallel') execution. (default = 's')\n",
      "\n"
     ]
    }
   ],
   "source": [
    "help(constraints_bootstrap)"
   ]
  },
  {
   "cell_type": "markdown",
   "metadata": {},
   "source": [
    "The function below is a convenient way to run chance contraints bootstrap for the 2 constraints.  It can be reused at stage 2."
   ]
  },
  {
   "cell_type": "code",
   "execution_count": 10,
   "metadata": {},
   "outputs": [],
   "source": [
    "def constraint_bootstrap_ward_problem(take_forward, df_u, df_t, gamma, nboots=1000, cores='s'):\n",
    "    \"\"\"\n",
    "    run constraints bootstrap for both chance contraints.  \n",
    "    Return subset of systems that meets both constraints gamma% of the time.\n",
    "    Just used for cleaner code.\n",
    "    \n",
    "    Keyword arguments:\n",
    "    take_forward -- systems to test\n",
    "    df_u -- dataframe containing replications of utilisation measure\n",
    "    df_t -- dataframe containing replpications of patient transfers measure\n",
    "    gamma -- test criterion e.g. 0.7, 0.8\n",
    "    cores - single or parallel execution (default = 's')\n",
    "    \n",
    "    \"\"\"\n",
    "    passed_1 = constraints_bootstrap(data = df_u.values.T, threshold=min_util, nboots=nboots, gamma=gamma, cores=cores)\n",
    "    print(\"Systems meeting MIN Utilisation constraint: {0}\".format(passed_1.shape[0]))\n",
    "    \n",
    "    passed_2 = constraints_bootstrap(data = df_t.values.T, threshold=max_tran, nboots=nboots, gamma=gamma, kind='upper', cores=cores)\n",
    "    print(\"Systems meeting MAX Patient Transfers constraint: {0}\".format(passed_2.shape[0]))\n",
    "          \n",
    "    mapped_1 = np.array([take_forward[x] for x in passed_1])\n",
    "    mapped_2 = np.array([take_forward[x] for x in passed_2])\n",
    "    \n",
    "    subset = np.intersect1d(mapped_1, mapped_2)\n",
    "    print(\"Systems meeting ALL constraints: {0}\".format(subset.shape[0]))\n",
    "    \n",
    "    return subset"
   ]
  },
  {
   "cell_type": "code",
   "execution_count": 31,
   "metadata": {},
   "outputs": [
    {
     "name": "stdout",
     "output_type": "stream",
     "text": [
      "Systems meeting MIN Utilisation constraint: 427\n",
      "Systems meeting MAX Patient Transfers constraint: 782\n",
      "Systems meeting ALL constraints: 161\n",
      "CPU times: user 371 ms, sys: 12.5 ms, total: 384 ms\n",
      "Wall time: 378 ms\n"
     ]
    }
   ],
   "source": [
    "%%time\n",
    "subset = constraint_bootstrap_ward_problem([i for i in range(df_wait.shape[1])], df_util, df_tran, gamma_1, nboots=N_BOOTS, cores='s')"
   ]
  },
  {
   "cell_type": "markdown",
   "metadata": {},
   "source": [
    "List and rank the systems along with their peformance measures"
   ]
  },
  {
   "cell_type": "code",
   "execution_count": 12,
   "metadata": {},
   "outputs": [
    {
     "data": {
      "text/plain": [
       "358"
      ]
     },
     "execution_count": 12,
     "metadata": {},
     "output_type": "execute_result"
    }
   ],
   "source": [
    "best_system_index, subset_kpi = get_best_subset([df_wait, df_util, df_tran], ['wait', 'util', 'tran'], subset)\n",
    "best_system_index"
   ]
  },
  {
   "cell_type": "markdown",
   "metadata": {},
   "source": [
    "### Stage 1: Quality Bootstrap \n",
    "\n",
    "Define set $J$ where y% of bootstraps are within x% of the best mean\n",
    "\n",
    "\n"
   ]
  },
  {
   "cell_type": "code",
   "execution_count": 13,
   "metadata": {},
   "outputs": [
    {
     "name": "stdout",
     "output_type": "stream",
     "text": [
      "Help on function quality_bootstrap in module Bootstrap_wsc18:\n",
      "\n",
      "quality_bootstrap(feasible_systems, headers, best_system_index, x=0.1, y=0.95, nboots=1000, cores='s')\n",
      "    1. Create differences of systems from best system\n",
      "    2. Create nboots bootstrap datasets of the differences\n",
      "    3. Return a DataFrame with all systems that are x% of feasible_systems[best_system_index] in y% of the boostrap samples\n",
      "    \n",
      "    Keyword arguments:\n",
      "    feasible_systems -- systems that meet chance constraints (if there are any)\n",
      "    headers -- list of system indexes that are feasible\n",
      "    best_system_index -- index of the best system within @feasible_systems\n",
      "    args - Instance of a BootstrapArguments class\n",
      "    x -- % tolerance of difference from best mean allowed (default = 0.1)\n",
      "    y -- % of boostrap samples that must be within tolerance x of best mean (default = 0.95)\n",
      "    nboots = number of bootstrap datasets to create (default = 1000)\n",
      "    cores - single ('single' or 's') core or parallel ('p' or 'parallel') execution. (default = 's')\n",
      "\n"
     ]
    }
   ],
   "source": [
    "help(quality_bootstrap)"
   ]
  },
  {
   "cell_type": "code",
   "execution_count": 14,
   "metadata": {},
   "outputs": [
    {
     "name": "stdout",
     "output_type": "stream",
     "text": [
      "CPU times: user 118 ms, sys: 4.44 ms, total: 122 ms\n",
      "Wall time: 121 ms\n"
     ]
    }
   ],
   "source": [
    "%%time\n",
    "feasible_systems = df_wait[subset]\n",
    "take_forward = quality_bootstrap(feasible_systems, subset, best_system_index, nboots=N_BOOTS, x=x_1, y=y_1)\n"
   ]
  },
  {
   "cell_type": "code",
   "execution_count": 15,
   "metadata": {},
   "outputs": [
    {
     "data": {
      "text/plain": [
       "34"
      ]
     },
     "execution_count": 15,
     "metadata": {},
     "output_type": "execute_result"
    }
   ],
   "source": [
    "no_stage1 = take_forward.shape[0]\n",
    "no_stage1"
   ]
  },
  {
   "cell_type": "markdown",
   "metadata": {},
   "source": [
    "_Quick look at stage 1 results_"
   ]
  },
  {
   "cell_type": "code",
   "execution_count": 16,
   "metadata": {},
   "outputs": [
    {
     "data": {
      "text/plain": [
       "<matplotlib.axes._subplots.AxesSubplot at 0x1a1a039c50>"
      ]
     },
     "execution_count": 16,
     "metadata": {},
     "output_type": "execute_result"
    },
    {
     "data": {
      "image/png": "[encoded data removed]",
      "text/plain": [
       "<matplotlib.figure.Figure at 0x1a1a031e48>"
      ]
     },
     "metadata": {},
     "output_type": "display_data"
    }
   ],
   "source": [
    "best_subset_table(subset_kpi, take_forward, DESIGN)['wait'].hist()"
   ]
  },
  {
   "cell_type": "markdown",
   "metadata": {},
   "source": [
    "## 4. Procedure - Stage 2"
   ]
  },
  {
   "cell_type": "markdown",
   "metadata": {},
   "source": [
    "### More replicates of promising solutions using Common Random Numbers"
   ]
  },
  {
   "cell_type": "markdown",
   "metadata": {},
   "source": [
    "User simulates $ n_2 $ additional replicates for the feasible solutions brought forward from stage 1.\n",
    "\n",
    "Example = 50 replicates (45 extra)"
   ]
  },
  {
   "cell_type": "code",
   "execution_count": 17,
   "metadata": {},
   "outputs": [
    {
     "name": "stdout",
     "output_type": "stream",
     "text": [
      "Loaded waiting time data. 34 systems; 50 replications\n",
      "Loaded utilzation data. 34 systems; 50 replications\n",
      "Loaded transfers data. 34 systems; 50 replications\n"
     ]
    }
   ],
   "source": [
    "df_wait_s2, df_util_s2, df_tran_s2 = wsc.simulate_stage_2(take_forward, load_model_file(MODEL_PATH))"
   ]
  },
  {
   "cell_type": "markdown",
   "metadata": {},
   "source": [
    "### Stage 2 Constraints Bootstrap"
   ]
  },
  {
   "cell_type": "code",
   "execution_count": 18,
   "metadata": {},
   "outputs": [
    {
     "name": "stdout",
     "output_type": "stream",
     "text": [
      "CPU times: user 2 µs, sys: 0 ns, total: 2 µs\n",
      "Wall time: 4.77 µs\n",
      "Systems meeting MIN Utilisation constraint: 34\n",
      "Systems meeting MAX Patient Transfers constraint: 34\n",
      "Systems meeting ALL constraints: 34\n"
     ]
    }
   ],
   "source": [
    "%time\n",
    "subset = constraint_bootstrap_ward_problem(take_forward, df_util_s2, df_tran_s2, gamma_2)"
   ]
  },
  {
   "cell_type": "code",
   "execution_count": 19,
   "metadata": {},
   "outputs": [
    {
     "data": {
      "text/plain": [
       "403"
      ]
     },
     "execution_count": 19,
     "metadata": {},
     "output_type": "execute_result"
    }
   ],
   "source": [
    "best_system_index, subset_kpi = get_best_subset([df_wait_s2, df_util_s2, df_tran_s2], ['wait', 'util', 'tran'], subset)\n",
    "best_system_index"
   ]
  },
  {
   "cell_type": "markdown",
   "metadata": {},
   "source": [
    "### Stage 2 Quality Bootstrap"
   ]
  },
  {
   "cell_type": "code",
   "execution_count": 20,
   "metadata": {
    "collapsed": true
   },
   "outputs": [
    {
     "data": {
      "text/plain": [
       "(28,)"
      ]
     },
     "execution_count": 20,
     "metadata": {},
     "output_type": "execute_result"
    }
   ],
   "source": [
    "feasible_systems = df_wait_s2[subset]\n",
    "final_set = quality_bootstrap(feasible_systems, subset, best_system_index, nboots=N_BOOTS, x = x_2, y=y_2)\n",
    "final_set.shape"
   ]
  },
  {
   "cell_type": "markdown",
   "metadata": {},
   "source": [
    "## Visualise Final Solution"
   ]
  },
  {
   "cell_type": "code",
   "execution_count": 21,
   "metadata": {},
   "outputs": [
    {
     "data": {
      "text/html": [
       "<div>\n",
       "<style>\n",
       "    .dataframe thead tr:only-child th {\n",
       "        text-align: right;\n",
       "    }\n",
       "\n",
       "    .dataframe thead th {\n",
       "        text-align: left;\n",
       "    }\n",
       "\n",
       "    .dataframe tbody tr th {\n",
       "        vertical-align: top;\n",
       "    }\n",
       "</style>\n",
       "<table border=\"1\" class=\"dataframe\">\n",
       "  <thead>\n",
       "    <tr style=\"text-align: right;\">\n",
       "      <th></th>\n",
       "      <th>Total beds</th>\n",
       "      <th>Size of Bays</th>\n",
       "      <th>Number of Bays</th>\n",
       "      <th>Number of Singles</th>\n",
       "      <th>wait</th>\n",
       "      <th>util</th>\n",
       "      <th>tran</th>\n",
       "    </tr>\n",
       "    <tr>\n",
       "      <th>System</th>\n",
       "      <th></th>\n",
       "      <th></th>\n",
       "      <th></th>\n",
       "      <th></th>\n",
       "      <th></th>\n",
       "      <th></th>\n",
       "      <th></th>\n",
       "    </tr>\n",
       "  </thead>\n",
       "  <tbody>\n",
       "    <tr>\n",
       "      <th>403</th>\n",
       "      <td>48</td>\n",
       "      <td>9</td>\n",
       "      <td>2</td>\n",
       "      <td>30</td>\n",
       "      <td>0.203996</td>\n",
       "      <td>81.010689</td>\n",
       "      <td>29.46</td>\n",
       "    </tr>\n",
       "    <tr>\n",
       "      <th>369</th>\n",
       "      <td>48</td>\n",
       "      <td>4</td>\n",
       "      <td>4</td>\n",
       "      <td>32</td>\n",
       "      <td>0.204240</td>\n",
       "      <td>81.011203</td>\n",
       "      <td>22.70</td>\n",
       "    </tr>\n",
       "    <tr>\n",
       "      <th>398</th>\n",
       "      <td>48</td>\n",
       "      <td>8</td>\n",
       "      <td>2</td>\n",
       "      <td>32</td>\n",
       "      <td>0.204240</td>\n",
       "      <td>81.011775</td>\n",
       "      <td>26.16</td>\n",
       "    </tr>\n",
       "    <tr>\n",
       "      <th>352</th>\n",
       "      <td>48</td>\n",
       "      <td>0</td>\n",
       "      <td>0</td>\n",
       "      <td>48</td>\n",
       "      <td>0.204245</td>\n",
       "      <td>81.011717</td>\n",
       "      <td>0.00</td>\n",
       "    </tr>\n",
       "    <tr>\n",
       "      <th>367</th>\n",
       "      <td>48</td>\n",
       "      <td>4</td>\n",
       "      <td>2</td>\n",
       "      <td>40</td>\n",
       "      <td>0.204245</td>\n",
       "      <td>81.011717</td>\n",
       "      <td>12.46</td>\n",
       "    </tr>\n",
       "    <tr>\n",
       "      <th>353</th>\n",
       "      <td>48</td>\n",
       "      <td>3</td>\n",
       "      <td>3</td>\n",
       "      <td>39</td>\n",
       "      <td>0.204245</td>\n",
       "      <td>81.011717</td>\n",
       "      <td>12.72</td>\n",
       "    </tr>\n",
       "    <tr>\n",
       "      <th>378</th>\n",
       "      <td>48</td>\n",
       "      <td>5</td>\n",
       "      <td>2</td>\n",
       "      <td>38</td>\n",
       "      <td>0.204245</td>\n",
       "      <td>81.011717</td>\n",
       "      <td>15.88</td>\n",
       "    </tr>\n",
       "    <tr>\n",
       "      <th>354</th>\n",
       "      <td>48</td>\n",
       "      <td>3</td>\n",
       "      <td>4</td>\n",
       "      <td>36</td>\n",
       "      <td>0.204245</td>\n",
       "      <td>81.011717</td>\n",
       "      <td>16.54</td>\n",
       "    </tr>\n",
       "    <tr>\n",
       "      <th>368</th>\n",
       "      <td>48</td>\n",
       "      <td>4</td>\n",
       "      <td>3</td>\n",
       "      <td>36</td>\n",
       "      <td>0.204245</td>\n",
       "      <td>81.011717</td>\n",
       "      <td>17.32</td>\n",
       "    </tr>\n",
       "    <tr>\n",
       "      <th>386</th>\n",
       "      <td>48</td>\n",
       "      <td>6</td>\n",
       "      <td>2</td>\n",
       "      <td>36</td>\n",
       "      <td>0.204245</td>\n",
       "      <td>81.011717</td>\n",
       "      <td>19.18</td>\n",
       "    </tr>\n",
       "    <tr>\n",
       "      <th>355</th>\n",
       "      <td>48</td>\n",
       "      <td>3</td>\n",
       "      <td>5</td>\n",
       "      <td>33</td>\n",
       "      <td>0.204245</td>\n",
       "      <td>81.011717</td>\n",
       "      <td>20.86</td>\n",
       "    </tr>\n",
       "    <tr>\n",
       "      <th>393</th>\n",
       "      <td>48</td>\n",
       "      <td>7</td>\n",
       "      <td>2</td>\n",
       "      <td>34</td>\n",
       "      <td>0.204255</td>\n",
       "      <td>81.011717</td>\n",
       "      <td>22.50</td>\n",
       "    </tr>\n",
       "    <tr>\n",
       "      <th>379</th>\n",
       "      <td>48</td>\n",
       "      <td>5</td>\n",
       "      <td>3</td>\n",
       "      <td>33</td>\n",
       "      <td>0.204288</td>\n",
       "      <td>81.011717</td>\n",
       "      <td>21.82</td>\n",
       "    </tr>\n",
       "    <tr>\n",
       "      <th>356</th>\n",
       "      <td>48</td>\n",
       "      <td>3</td>\n",
       "      <td>6</td>\n",
       "      <td>30</td>\n",
       "      <td>0.204294</td>\n",
       "      <td>81.011717</td>\n",
       "      <td>25.40</td>\n",
       "    </tr>\n",
       "    <tr>\n",
       "      <th>357</th>\n",
       "      <td>48</td>\n",
       "      <td>3</td>\n",
       "      <td>7</td>\n",
       "      <td>27</td>\n",
       "      <td>0.204609</td>\n",
       "      <td>81.012289</td>\n",
       "      <td>29.94</td>\n",
       "    </tr>\n",
       "    <tr>\n",
       "      <th>380</th>\n",
       "      <td>48</td>\n",
       "      <td>5</td>\n",
       "      <td>4</td>\n",
       "      <td>28</td>\n",
       "      <td>0.204763</td>\n",
       "      <td>81.012860</td>\n",
       "      <td>29.68</td>\n",
       "    </tr>\n",
       "    <tr>\n",
       "      <th>407</th>\n",
       "      <td>48</td>\n",
       "      <td>10</td>\n",
       "      <td>2</td>\n",
       "      <td>28</td>\n",
       "      <td>0.204787</td>\n",
       "      <td>81.011317</td>\n",
       "      <td>33.18</td>\n",
       "    </tr>\n",
       "    <tr>\n",
       "      <th>370</th>\n",
       "      <td>48</td>\n",
       "      <td>4</td>\n",
       "      <td>5</td>\n",
       "      <td>28</td>\n",
       "      <td>0.204939</td>\n",
       "      <td>81.011775</td>\n",
       "      <td>28.84</td>\n",
       "    </tr>\n",
       "    <tr>\n",
       "      <th>387</th>\n",
       "      <td>48</td>\n",
       "      <td>6</td>\n",
       "      <td>3</td>\n",
       "      <td>30</td>\n",
       "      <td>0.204944</td>\n",
       "      <td>81.012289</td>\n",
       "      <td>26.18</td>\n",
       "    </tr>\n",
       "    <tr>\n",
       "      <th>358</th>\n",
       "      <td>48</td>\n",
       "      <td>3</td>\n",
       "      <td>8</td>\n",
       "      <td>24</td>\n",
       "      <td>0.205050</td>\n",
       "      <td>81.014004</td>\n",
       "      <td>35.30</td>\n",
       "    </tr>\n",
       "    <tr>\n",
       "      <th>371</th>\n",
       "      <td>48</td>\n",
       "      <td>4</td>\n",
       "      <td>6</td>\n",
       "      <td>24</td>\n",
       "      <td>0.205219</td>\n",
       "      <td>81.013489</td>\n",
       "      <td>35.72</td>\n",
       "    </tr>\n",
       "    <tr>\n",
       "      <th>359</th>\n",
       "      <td>48</td>\n",
       "      <td>3</td>\n",
       "      <td>9</td>\n",
       "      <td>21</td>\n",
       "      <td>0.206137</td>\n",
       "      <td>81.012289</td>\n",
       "      <td>40.22</td>\n",
       "    </tr>\n",
       "    <tr>\n",
       "      <th>410</th>\n",
       "      <td>48</td>\n",
       "      <td>11</td>\n",
       "      <td>2</td>\n",
       "      <td>26</td>\n",
       "      <td>0.206461</td>\n",
       "      <td>81.013032</td>\n",
       "      <td>36.22</td>\n",
       "    </tr>\n",
       "    <tr>\n",
       "      <th>381</th>\n",
       "      <td>48</td>\n",
       "      <td>5</td>\n",
       "      <td>5</td>\n",
       "      <td>23</td>\n",
       "      <td>0.207148</td>\n",
       "      <td>81.013032</td>\n",
       "      <td>37.70</td>\n",
       "    </tr>\n",
       "    <tr>\n",
       "      <th>394</th>\n",
       "      <td>48</td>\n",
       "      <td>7</td>\n",
       "      <td>3</td>\n",
       "      <td>27</td>\n",
       "      <td>0.207510</td>\n",
       "      <td>81.012861</td>\n",
       "      <td>31.02</td>\n",
       "    </tr>\n",
       "    <tr>\n",
       "      <th>372</th>\n",
       "      <td>48</td>\n",
       "      <td>4</td>\n",
       "      <td>7</td>\n",
       "      <td>20</td>\n",
       "      <td>0.207696</td>\n",
       "      <td>81.015718</td>\n",
       "      <td>42.28</td>\n",
       "    </tr>\n",
       "    <tr>\n",
       "      <th>388</th>\n",
       "      <td>48</td>\n",
       "      <td>6</td>\n",
       "      <td>4</td>\n",
       "      <td>24</td>\n",
       "      <td>0.208059</td>\n",
       "      <td>81.014575</td>\n",
       "      <td>36.02</td>\n",
       "    </tr>\n",
       "    <tr>\n",
       "      <th>413</th>\n",
       "      <td>48</td>\n",
       "      <td>12</td>\n",
       "      <td>2</td>\n",
       "      <td>24</td>\n",
       "      <td>0.209435</td>\n",
       "      <td>81.013089</td>\n",
       "      <td>39.48</td>\n",
       "    </tr>\n",
       "  </tbody>\n",
       "</table>\n",
       "</div>"
      ],
      "text/plain": [
       "        Total beds  Size of Bays  Number of Bays  Number of Singles      wait  \\\n",
       "System                                                                          \n",
       "403             48             9               2                 30  0.203996   \n",
       "369             48             4               4                 32  0.204240   \n",
       "398             48             8               2                 32  0.204240   \n",
       "352             48             0               0                 48  0.204245   \n",
       "367             48             4               2                 40  0.204245   \n",
       "353             48             3               3                 39  0.204245   \n",
       "378             48             5               2                 38  0.204245   \n",
       "354             48             3               4                 36  0.204245   \n",
       "368             48             4               3                 36  0.204245   \n",
       "386             48             6               2                 36  0.204245   \n",
       "355             48             3               5                 33  0.204245   \n",
       "393             48             7               2                 34  0.204255   \n",
       "379             48             5               3                 33  0.204288   \n",
       "356             48             3               6                 30  0.204294   \n",
       "357             48             3               7                 27  0.204609   \n",
       "380             48             5               4                 28  0.204763   \n",
       "407             48            10               2                 28  0.204787   \n",
       "370             48             4               5                 28  0.204939   \n",
       "387             48             6               3                 30  0.204944   \n",
       "358             48             3               8                 24  0.205050   \n",
       "371             48             4               6                 24  0.205219   \n",
       "359             48             3               9                 21  0.206137   \n",
       "410             48            11               2                 26  0.206461   \n",
       "381             48             5               5                 23  0.207148   \n",
       "394             48             7               3                 27  0.207510   \n",
       "372             48             4               7                 20  0.207696   \n",
       "388             48             6               4                 24  0.208059   \n",
       "413             48            12               2                 24  0.209435   \n",
       "\n",
       "             util   tran  \n",
       "System                    \n",
       "403     81.010689  29.46  \n",
       "369     81.011203  22.70  \n",
       "398     81.011775  26.16  \n",
       "352     81.011717   0.00  \n",
       "367     81.011717  12.46  \n",
       "353     81.011717  12.72  \n",
       "378     81.011717  15.88  \n",
       "354     81.011717  16.54  \n",
       "368     81.011717  17.32  \n",
       "386     81.011717  19.18  \n",
       "355     81.011717  20.86  \n",
       "393     81.011717  22.50  \n",
       "379     81.011717  21.82  \n",
       "356     81.011717  25.40  \n",
       "357     81.012289  29.94  \n",
       "380     81.012860  29.68  \n",
       "407     81.011317  33.18  \n",
       "370     81.011775  28.84  \n",
       "387     81.012289  26.18  \n",
       "358     81.014004  35.30  \n",
       "371     81.013489  35.72  \n",
       "359     81.012289  40.22  \n",
       "410     81.013032  36.22  \n",
       "381     81.013032  37.70  \n",
       "394     81.012861  31.02  \n",
       "372     81.015718  42.28  \n",
       "388     81.014575  36.02  \n",
       "413     81.013089  39.48  "
      ]
     },
     "execution_count": 21,
     "metadata": {},
     "output_type": "execute_result"
    }
   ],
   "source": [
    "df_final = best_subset_table(subset_kpi, final_set, DESIGN)\n",
    "df_final"
   ]
  },
  {
   "cell_type": "code",
   "execution_count": 22,
   "metadata": {},
   "outputs": [],
   "source": [
    "df_final.to_clipboard()"
   ]
  },
  {
   "cell_type": "markdown",
   "metadata": {},
   "source": [
    "## Charts for paper"
   ]
  },
  {
   "cell_type": "code",
   "execution_count": 23,
   "metadata": {
    "collapsed": true
   },
   "outputs": [],
   "source": [
    "df_doe = pd.read_csv(DESIGN, index_col='System')\n",
    "df_doe.index -= 1"
   ]
  },
  {
   "cell_type": "markdown",
   "metadata": {},
   "source": [
    "Utilisation"
   ]
  },
  {
   "cell_type": "code",
   "execution_count": 24,
   "metadata": {
    "collapsed": false
   },
   "outputs": [
    {
     "data": {
      "text/plain": [
       "<matplotlib.legend.Legend at 0x1a19ed6160>"
      ]
     },
     "execution_count": 24,
     "metadata": {},
     "output_type": "execute_result"
    },
    {
     "data": {
      "image/png": "[encoded data removed]",
      "text/plain": [
       "<matplotlib.figure.Figure at 0x1a19dc0eb8>"
      ]
     },
     "metadata": {},
     "output_type": "display_data"
    }
   ],
   "source": [
    "temp = df_doe.loc[df_doe['Number of Bays']==0]\n",
    "#temp.index += 1\n",
    "subset_waits = df_wait[temp.index].mean()\n",
    "subset_waits.rename('wait', inplace=True)\n",
    "subset_utils = df_util[temp.index].mean()\n",
    "subset_utils.rename('util', inplace=True)\n",
    "subset_trans = df_tran[temp.index].mean()\n",
    "subset_trans.rename('tran', inplace=True)\n",
    "\n",
    "\n",
    "\n",
    "subset_utils_sem = df_util[temp.index].sem()\n",
    "subset_utils_sem.rename('util_sem', inplace=True)\n",
    "\n",
    "subset_utils_count = df_util[temp.index].count()\n",
    "subset_utils_count.rename('n_util', inplace=True)\n",
    "\n",
    "import scipy as sp\n",
    "import scipy.stats\n",
    "import seaborn as sns\n",
    "\n",
    "subset_kpi = pd.concat([temp, subset_waits, subset_utils, subset_trans, subset_utils_sem, subset_utils_count], axis = 1)\n",
    "subset_kpi['Waiting Time (hrs)'] = round(subset_kpi['wait']*24, 2)\n",
    "\n",
    "confidence = 0.95\n",
    "\n",
    "subset_kpi['hw_95'] = subset_kpi['util_sem'] * sp.stats.t.ppf((1+confidence)/2., subset_kpi['n_util']-1)\n",
    "\n",
    "#fig = plt.figure()\n",
    "#ax = fig.add_subplot(111)\n",
    "fig, axes = plt.subplots(nrows=1, ncols=2, sharey=False)\n",
    "\n",
    "subset_kpi.sort_values('util').plot(y = 'util', x= 'Number of Singles', figsize=(20, 8), fontsize = 18, \n",
    "                                    linewidth=3, legend =False, kind='scatter', ax=axes[1], xticks=[x for x in range(43, 56, 1)], xlim=(42, 56), yerr='hw_95')#, xlim=(70, 92), ylim=(0, 35))\n",
    "axes[0].set_ylabel('Mean Waiting Time (hrs)', fontsize = 18)\n",
    "axes[1].set_xlabel('Number of Singles (beds)', fontsize = 18)\n",
    "\n",
    "\n",
    "\n",
    "\n",
    "subset_kpi.plot('Number of Singles', 'Waiting Time (hrs)', figsize=(20, 8), fontsize = 18, \n",
    "                                    linewidth=3, legend =False, kind='line', ms=10, style='o-', ax=axes[0], xlim=(42, 56),\n",
    "                                    xticks=[x for x in range(43, 56, 1)])\n",
    "axes[0].set_xlabel('Number of Singles (beds)', fontsize = 18)\n",
    "axes[1].set_ylabel('Mean Utilization (% beds)', fontsize = 18)\n",
    "axes[0].grid(True)\n",
    "axes[1].grid(True)\n",
    "axes[1].legend(['mean (n=5)','95% Confidence Interval'],fontsize=18)\n",
    "#plt.tight_layout()"
   ]
  },
  {
   "cell_type": "code",
   "execution_count": 25,
   "metadata": {
    "collapsed": true
   },
   "outputs": [],
   "source": [
    "fig.savefig(\"chance_constraint_stage1.pdf\", format = 'pdf', dpi=600, bbox_inches='tight')"
   ]
  },
  {
   "cell_type": "code",
   "execution_count": 26,
   "metadata": {
    "collapsed": false
   },
   "outputs": [
    {
     "data": {
      "text/html": [
       "<div>\n",
       "<style>\n",
       "    .dataframe thead tr:only-child th {\n",
       "        text-align: right;\n",
       "    }\n",
       "\n",
       "    .dataframe thead th {\n",
       "        text-align: left;\n",
       "    }\n",
       "\n",
       "    .dataframe tbody tr th {\n",
       "        vertical-align: top;\n",
       "    }\n",
       "</style>\n",
       "<table border=\"1\" class=\"dataframe\">\n",
       "  <thead>\n",
       "    <tr style=\"text-align: right;\">\n",
       "      <th></th>\n",
       "      <th>Total beds</th>\n",
       "      <th>Size of Bays</th>\n",
       "      <th>Number of Bays</th>\n",
       "      <th>Number of Singles</th>\n",
       "      <th>wait</th>\n",
       "      <th>util</th>\n",
       "      <th>tran</th>\n",
       "      <th>util_sem</th>\n",
       "      <th>n_util</th>\n",
       "      <th>Waiting Time (hrs)</th>\n",
       "      <th>hw_95</th>\n",
       "    </tr>\n",
       "    <tr>\n",
       "      <th>System</th>\n",
       "      <th></th>\n",
       "      <th></th>\n",
       "      <th></th>\n",
       "      <th></th>\n",
       "      <th></th>\n",
       "      <th></th>\n",
       "      <th></th>\n",
       "      <th></th>\n",
       "      <th></th>\n",
       "      <th></th>\n",
       "      <th></th>\n",
       "    </tr>\n",
       "  </thead>\n",
       "  <tbody>\n",
       "    <tr>\n",
       "      <th>0</th>\n",
       "      <td>43</td>\n",
       "      <td>0</td>\n",
       "      <td>0</td>\n",
       "      <td>43</td>\n",
       "      <td>1.576197</td>\n",
       "      <td>91.611000</td>\n",
       "      <td>0.1</td>\n",
       "      <td>1.500969</td>\n",
       "      <td>10</td>\n",
       "      <td>37.83</td>\n",
       "      <td>3.395427</td>\n",
       "    </tr>\n",
       "    <tr>\n",
       "      <th>66</th>\n",
       "      <td>44</td>\n",
       "      <td>0</td>\n",
       "      <td>0</td>\n",
       "      <td>44</td>\n",
       "      <td>1.032581</td>\n",
       "      <td>89.508356</td>\n",
       "      <td>0.0</td>\n",
       "      <td>1.482339</td>\n",
       "      <td>10</td>\n",
       "      <td>24.78</td>\n",
       "      <td>3.353284</td>\n",
       "    </tr>\n",
       "    <tr>\n",
       "      <th>134</th>\n",
       "      <td>45</td>\n",
       "      <td>0</td>\n",
       "      <td>0</td>\n",
       "      <td>45</td>\n",
       "      <td>0.693250</td>\n",
       "      <td>87.428442</td>\n",
       "      <td>0.0</td>\n",
       "      <td>1.430231</td>\n",
       "      <td>10</td>\n",
       "      <td>16.64</td>\n",
       "      <td>3.235408</td>\n",
       "    </tr>\n",
       "    <tr>\n",
       "      <th>206</th>\n",
       "      <td>46</td>\n",
       "      <td>0</td>\n",
       "      <td>0</td>\n",
       "      <td>46</td>\n",
       "      <td>0.460023</td>\n",
       "      <td>85.480111</td>\n",
       "      <td>0.0</td>\n",
       "      <td>1.412542</td>\n",
       "      <td>10</td>\n",
       "      <td>11.04</td>\n",
       "      <td>3.195392</td>\n",
       "    </tr>\n",
       "    <tr>\n",
       "      <th>279</th>\n",
       "      <td>47</td>\n",
       "      <td>0</td>\n",
       "      <td>0</td>\n",
       "      <td>47</td>\n",
       "      <td>0.298577</td>\n",
       "      <td>83.676562</td>\n",
       "      <td>0.0</td>\n",
       "      <td>1.386183</td>\n",
       "      <td>10</td>\n",
       "      <td>7.17</td>\n",
       "      <td>3.135763</td>\n",
       "    </tr>\n",
       "    <tr>\n",
       "      <th>352</th>\n",
       "      <td>48</td>\n",
       "      <td>0</td>\n",
       "      <td>0</td>\n",
       "      <td>48</td>\n",
       "      <td>0.196905</td>\n",
       "      <td>81.950448</td>\n",
       "      <td>0.0</td>\n",
       "      <td>1.364659</td>\n",
       "      <td>10</td>\n",
       "      <td>4.73</td>\n",
       "      <td>3.087073</td>\n",
       "    </tr>\n",
       "    <tr>\n",
       "      <th>432</th>\n",
       "      <td>49</td>\n",
       "      <td>0</td>\n",
       "      <td>0</td>\n",
       "      <td>49</td>\n",
       "      <td>0.125944</td>\n",
       "      <td>80.300385</td>\n",
       "      <td>0.0</td>\n",
       "      <td>1.340202</td>\n",
       "      <td>10</td>\n",
       "      <td>3.02</td>\n",
       "      <td>3.031748</td>\n",
       "    </tr>\n",
       "    <tr>\n",
       "      <th>513</th>\n",
       "      <td>50</td>\n",
       "      <td>0</td>\n",
       "      <td>0</td>\n",
       "      <td>50</td>\n",
       "      <td>0.079324</td>\n",
       "      <td>78.705351</td>\n",
       "      <td>0.0</td>\n",
       "      <td>1.311099</td>\n",
       "      <td>10</td>\n",
       "      <td>1.90</td>\n",
       "      <td>2.965913</td>\n",
       "    </tr>\n",
       "    <tr>\n",
       "      <th>597</th>\n",
       "      <td>51</td>\n",
       "      <td>0</td>\n",
       "      <td>0</td>\n",
       "      <td>51</td>\n",
       "      <td>0.046146</td>\n",
       "      <td>77.178248</td>\n",
       "      <td>0.0</td>\n",
       "      <td>1.286321</td>\n",
       "      <td>10</td>\n",
       "      <td>1.11</td>\n",
       "      <td>2.909860</td>\n",
       "    </tr>\n",
       "    <tr>\n",
       "      <th>683</th>\n",
       "      <td>52</td>\n",
       "      <td>0</td>\n",
       "      <td>0</td>\n",
       "      <td>52</td>\n",
       "      <td>0.027529</td>\n",
       "      <td>75.712515</td>\n",
       "      <td>0.0</td>\n",
       "      <td>1.264121</td>\n",
       "      <td>10</td>\n",
       "      <td>0.66</td>\n",
       "      <td>2.859640</td>\n",
       "    </tr>\n",
       "    <tr>\n",
       "      <th>772</th>\n",
       "      <td>53</td>\n",
       "      <td>0</td>\n",
       "      <td>0</td>\n",
       "      <td>53</td>\n",
       "      <td>0.014612</td>\n",
       "      <td>74.294330</td>\n",
       "      <td>0.0</td>\n",
       "      <td>1.243628</td>\n",
       "      <td>10</td>\n",
       "      <td>0.35</td>\n",
       "      <td>2.813281</td>\n",
       "    </tr>\n",
       "    <tr>\n",
       "      <th>861</th>\n",
       "      <td>54</td>\n",
       "      <td>0</td>\n",
       "      <td>0</td>\n",
       "      <td>54</td>\n",
       "      <td>0.007549</td>\n",
       "      <td>72.908348</td>\n",
       "      <td>0.0</td>\n",
       "      <td>1.217059</td>\n",
       "      <td>10</td>\n",
       "      <td>0.18</td>\n",
       "      <td>2.753179</td>\n",
       "    </tr>\n",
       "    <tr>\n",
       "      <th>955</th>\n",
       "      <td>55</td>\n",
       "      <td>0</td>\n",
       "      <td>0</td>\n",
       "      <td>55</td>\n",
       "      <td>0.003378</td>\n",
       "      <td>71.575259</td>\n",
       "      <td>0.0</td>\n",
       "      <td>1.193714</td>\n",
       "      <td>10</td>\n",
       "      <td>0.08</td>\n",
       "      <td>2.700368</td>\n",
       "    </tr>\n",
       "  </tbody>\n",
       "</table>\n",
       "</div>"
      ],
      "text/plain": [
       "        Total beds  Size of Bays  Number of Bays  Number of Singles      wait  \\\n",
       "System                                                                          \n",
       "0               43             0               0                 43  1.576197   \n",
       "66              44             0               0                 44  1.032581   \n",
       "134             45             0               0                 45  0.693250   \n",
       "206             46             0               0                 46  0.460023   \n",
       "279             47             0               0                 47  0.298577   \n",
       "352             48             0               0                 48  0.196905   \n",
       "432             49             0               0                 49  0.125944   \n",
       "513             50             0               0                 50  0.079324   \n",
       "597             51             0               0                 51  0.046146   \n",
       "683             52             0               0                 52  0.027529   \n",
       "772             53             0               0                 53  0.014612   \n",
       "861             54             0               0                 54  0.007549   \n",
       "955             55             0               0                 55  0.003378   \n",
       "\n",
       "             util  tran  util_sem  n_util  Waiting Time (hrs)     hw_95  \n",
       "System                                                                   \n",
       "0       91.611000   0.1  1.500969      10               37.83  3.395427  \n",
       "66      89.508356   0.0  1.482339      10               24.78  3.353284  \n",
       "134     87.428442   0.0  1.430231      10               16.64  3.235408  \n",
       "206     85.480111   0.0  1.412542      10               11.04  3.195392  \n",
       "279     83.676562   0.0  1.386183      10                7.17  3.135763  \n",
       "352     81.950448   0.0  1.364659      10                4.73  3.087073  \n",
       "432     80.300385   0.0  1.340202      10                3.02  3.031748  \n",
       "513     78.705351   0.0  1.311099      10                1.90  2.965913  \n",
       "597     77.178248   0.0  1.286321      10                1.11  2.909860  \n",
       "683     75.712515   0.0  1.264121      10                0.66  2.859640  \n",
       "772     74.294330   0.0  1.243628      10                0.35  2.813281  \n",
       "861     72.908348   0.0  1.217059      10                0.18  2.753179  \n",
       "955     71.575259   0.0  1.193714      10                0.08  2.700368  "
      ]
     },
     "execution_count": 26,
     "metadata": {},
     "output_type": "execute_result"
    }
   ],
   "source": [
    "subset_kpi"
   ]
  },
  {
   "cell_type": "code",
   "execution_count": null,
   "metadata": {},
   "outputs": [],
   "source": []
  }
 ],
 "metadata": {
  "kernelspec": {
   "display_name": "Python 3",
   "language": "python",
   "name": "python3"
  },
  "language_info": {
   "codemirror_mode": {
    "name": "ipython",
    "version": 3
   },
   "file_extension": ".py",
   "mimetype": "text/x-python",
   "name": "python",
   "nbconvert_exporter": "python",
   "pygments_lexer": "ipython3",
   "version": "3.6.3"
  }
 },
 "nbformat": 4,
 "nbformat_minor": 2
}

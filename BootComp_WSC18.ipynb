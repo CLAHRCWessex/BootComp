{
 "cells": [
  {
   "cell_type": "markdown",
   "metadata": {},
   "source": [
    "# Bootstrap multiple comparisons tutorial (WSC18)"
   ]
  },
  {
   "cell_type": "markdown",
   "metadata": {},
   "source": [
    "This Jupyter _Python 3_ notebook has been written to accompany the WSC18 paper:\n",
    "\n",
    "**PRACTICAL CONSIDERATIONS IN SELECTING THE BEST SET OF SIMULATED SYSTEMS**  _by Christine Currie and Tom Monks_.\n",
    "\n",
    "The notebook provides a worked example of using BootComp to conduct a 2 stage screening and search of a simulation model.  "
   ]
  },
  {
   "cell_type": "markdown",
   "metadata": {},
   "source": [
    "## 1. Preamble"
   ]
  },
  {
   "cell_type": "markdown",
   "metadata": {},
   "source": [
    "### 1.1. Detail of the simulation model"
   ]
  },
  {
   "cell_type": "markdown",
   "metadata": {},
   "source": [
    "The simulation model was used in a 2017 project in the UK to help a hospital, a community healthcare provider and a clinical commissioning group design and plan a new community rehabilitation ward.  In the UK, patients who require rehabilitation are often stuck in a queuing system where there must wait (inappropriately) in a acute hospital bed for a space in the rehabilitaiton ward.  The model investigated the sizing of the new ward in order to minimise patient waiting time whilst meeting probabilitic constraints regarding ward occupancy (bed utilization) and the number of transfers between single sex bays."
   ]
  },
  {
   "cell_type": "markdown",
   "metadata": {},
   "source": [
    "<img src=\"images/DToC.jpg\" alt=\"Delayed Transfers of Care Model\" title=\"Simulation Model and KPIs\" />"
   ]
  },
  {
   "cell_type": "markdown",
   "metadata": {},
   "source": [
    "### 1.2. Output data"
   ]
  },
  {
   "cell_type": "markdown",
   "metadata": {},
   "source": [
    "The output data for the example analysis are bundled with git repository.  There are three .csv files in the data/ directory for 'waiting times', 'utilization' and 'transfers'.  \n",
    "\n",
    "The model itself is not needed.  There are 50 replications of 1151 competing designs points.  Users can vary the number of replications used in the two stage procedure.  \n",
    "\n",
    "The experimental design is also included for reference."
   ]
  },
  {
   "cell_type": "markdown",
   "metadata": {},
   "source": [
    "## 2. Prerequisites"
   ]
  },
  {
   "cell_type": "markdown",
   "metadata": {},
   "source": [
    "### 2.1. BootComp Modules"
   ]
  },
  {
   "cell_type": "code",
   "execution_count": 1,
   "metadata": {
    "collapsed": true
   },
   "outputs": [],
   "source": [
    "import Bootstrap as bs\n",
    "import BootIO as io\n",
    "import ConvFuncs as cf"
   ]
  },
  {
   "cell_type": "code",
   "execution_count": 2,
   "metadata": {
    "collapsed": true
   },
   "outputs": [],
   "source": [
    "#WSC18 specific\n",
    "import Bootstrap_crn as crn\n",
    "from Bootstrap_crn import bootstrap_chance_constraint, quality_bootstrap"
   ]
  },
  {
   "cell_type": "markdown",
   "metadata": {},
   "source": [
    "### 2.2. Python Data Science Modules"
   ]
  },
  {
   "cell_type": "code",
   "execution_count": 3,
   "metadata": {
    "collapsed": true
   },
   "outputs": [],
   "source": [
    "import pandas as pd\n",
    "import numpy as np\n",
    "import matplotlib.pyplot as plt\n",
    "import scipy as sp\n",
    "import scipy.stats\n",
    "%matplotlib inline\n",
    "import matplotlib as mp\n",
    "import seaborn as sns"
   ]
  },
  {
   "cell_type": "markdown",
   "metadata": {},
   "source": [
    "## 3. Procedure: Stage 1"
   ]
  },
  {
   "cell_type": "markdown",
   "metadata": {},
   "source": [
    "** Optimization Parameters **"
   ]
  },
  {
   "cell_type": "markdown",
   "metadata": {},
   "source": [
    "N_BOOTS = no. bootstraps to perform\n",
    "\n",
    "** Stage 1 **\n",
    "\n",
    "$n_1$ = no. stage 1 indeptendent replications for each systems / competing design\n",
    "\n",
    "$p_1$ = percentage of bootstrap samples that must meet chance constraint in stage 1\n",
    "\n",
    "$y_1$ proportion of bootstrap samples of primary KPI that must be within $x_1$ percent of the best system\n",
    "\n",
    "** Stage 2 **\n",
    "\n",
    "$n_2$ = no. stage 2 independent replications for each system / competigin design\n",
    "\n",
    "$p_1$ = percentage of bootstrap samples that must meet chance constraint in stage 2\n",
    "\n",
    "$y_1$ proportion of bootstrap samples of primary KPI that must be within $x_1$ percent of the best system in stage 2"
   ]
  },
  {
   "cell_type": "code",
   "execution_count": 30,
   "metadata": {
    "collapsed": true
   },
   "outputs": [],
   "source": [
    "N_BOOTS = 1000\n",
    "n_1 = 5\n",
    "n_2 = 45\n",
    "\n",
    "gamma_1 = 0.7\n",
    "x_1 = 0.3\n",
    "y_1 = 0.90\n",
    "\n",
    "gamma_2 = 0.95\n",
    "x_2 = 0.05\n",
    "y_2 = 0.95\n"
   ]
  },
  {
   "cell_type": "markdown",
   "metadata": {},
   "source": [
    "** Chance constraints **"
   ]
  },
  {
   "cell_type": "code",
   "execution_count": 5,
   "metadata": {
    "collapsed": true
   },
   "outputs": [],
   "source": [
    "min_util = 80 # ward occupancy >= 80%\n",
    "max_tran = 50 # transfers between single sex bays <= 50"
   ]
  },
  {
   "cell_type": "markdown",
   "metadata": {},
   "source": [
    "### Stage 1: Read in initial $ n_1 $  replications"
   ]
  },
  {
   "cell_type": "code",
   "execution_count": 6,
   "metadata": {
    "collapsed": true
   },
   "outputs": [],
   "source": [
    "MODEL_FILE1 = \"data/replications_wait_times.csv\"\n",
    "MODEL_FILE2 = \"data/replications_util.csv\"\n",
    "MODEL_FILE3 = \"data/replications_transfers.csv\"\n",
    "DESIGN = \"data/doe.csv\""
   ]
  },
  {
   "cell_type": "code",
   "execution_count": 7,
   "metadata": {},
   "outputs": [
    {
     "name": "stdout",
     "output_type": "stream",
     "text": [
      "Loaded waiting time data. 1051 systems; 5 replications\n",
      "Loaded utilzation data. 1051 systems; 5 replications\n",
      "Loaded transfers data. 1051 systems; 5 replications\n"
     ]
    }
   ],
   "source": [
    "df_wait, df_util, df_tran = crn.simulate_stage_1(n_1, MODEL_FILE1, MODEL_FILE2, MODEL_FILE3)"
   ]
  },
  {
   "cell_type": "code",
   "execution_count": 8,
   "metadata": {},
   "outputs": [
    {
     "data": {
      "text/plain": [
       "(5, 1051)"
      ]
     },
     "execution_count": 8,
     "metadata": {},
     "output_type": "execute_result"
    }
   ],
   "source": [
    "df_wait.shape"
   ]
  },
  {
   "cell_type": "markdown",
   "metadata": {},
   "source": [
    "### Stage 1: Limit to systems that satisfy chance constraints"
   ]
  },
  {
   "cell_type": "markdown",
   "metadata": {},
   "source": [
    "Bootstrap function arguments"
   ]
  },
  {
   "cell_type": "code",
   "execution_count": 9,
   "metadata": {
    "collapsed": true
   },
   "outputs": [],
   "source": [
    "args =  bs.BootstrapArguments()\n",
    "\n",
    "args.nboots = N_BOOTS\n",
    "args.nscenarios = df_wait.shape[1]\n",
    "args.point_estimate_func = bs.bootstrap_mean\n"
   ]
  },
  {
   "cell_type": "markdown",
   "metadata": {},
   "source": [
    "#### Chance constraint 1:  Utilisation Threshold (value for money)"
   ]
  },
  {
   "cell_type": "code",
   "execution_count": 10,
   "metadata": {
    "collapsed": false
   },
   "outputs": [
    {
     "name": "stdout",
     "output_type": "stream",
     "text": [
      "Help on function bootstrap_chance_constraint in module Bootstrap_crn:\n",
      "\n",
      "bootstrap_chance_constraint(data, threshold, nboots=1000, gamma=0.95, kind='lower')\n",
      "    Bootstrap a chance constraint for k systems and filter out systems \n",
      "    where p% of resamples are greater a threshold t.  \n",
      "    \n",
      "    Example 1. A lower limit.  If the chance constaint was related to utilization it could be stated as \n",
      "    filter out any systems where 95% of the distribution is greater than 80%.\n",
      "    \n",
      "    Example 2. An upper limit.  If the chance constraint related to unwanted ward transfers it could be stated \n",
      "    as filter out any systems where 95% of the distribution is less than 50 transfers per annum.\n",
      "    \n",
      "    Returns a pandas.Series containing of the feasible systems i.e. that do not violate the chance constraint.\n",
      "    \n",
      "    Keyword arguments\n",
      "    data -- a numpy array of the data to bootstrap\n",
      "    threshold -- the threshold of the chance constraint\n",
      "    boot_args -- the bootstrap setup class\n",
      "    gamma -- the probability cut of for the chance constraint  (default p = 0.95)\n",
      "    kind -- 'lower' = a lower limit threshold; 'upper' = an upper limit threshold (default = 'lower')\n",
      "\n"
     ]
    }
   ],
   "source": [
    "help(bootstrap_chance_constraint)"
   ]
  },
  {
   "cell_type": "code",
   "execution_count": 11,
   "metadata": {},
   "outputs": [
    {
     "data": {
      "text/plain": [
       "Int64Index([  0,   1,   2,   3,   4,   5,   6,   7,   8,   9,\n",
       "            ...\n",
       "            393, 403, 406, 408, 411, 416, 422, 425, 428, 429],\n",
       "           dtype='int64', length=372)"
      ]
     },
     "execution_count": 11,
     "metadata": {},
     "output_type": "execute_result"
    }
   ],
   "source": [
    "passed_1 = bootstrap_chance_constraint(data = df_util.values.T, threshold=min_util, nboots=N_BOOTS, gamma=gamma_1)\n",
    "passed_1"
   ]
  },
  {
   "cell_type": "markdown",
   "metadata": {},
   "source": [
    "#### Chance constraint 2: Upper bound on transfers between bays"
   ]
  },
  {
   "cell_type": "code",
   "execution_count": 12,
   "metadata": {
    "collapsed": true
   },
   "outputs": [
    {
     "data": {
      "text/plain": [
       "Int64Index([   0,    1,    2,   14,   35,   40,   50,   58,   62,   63,\n",
       "            ...\n",
       "            1041, 1042, 1043, 1044, 1045, 1046, 1047, 1048, 1049, 1050],\n",
       "           dtype='int64', length=819)"
      ]
     },
     "execution_count": 12,
     "metadata": {},
     "output_type": "execute_result"
    }
   ],
   "source": [
    "passed_2 = bootstrap_chance_constraint(data = df_tran.values.T, threshold=max_tran, nboots=N_BOOTS,\n",
    "                                       gamma=gamma_1, kind='upper')\n",
    "passed_2"
   ]
  },
  {
   "cell_type": "markdown",
   "metadata": {},
   "source": [
    "#### Filter for systems that meet all chance constraints"
   ]
  },
  {
   "cell_type": "code",
   "execution_count": 13,
   "metadata": {
    "collapsed": false,
    "scrolled": true
   },
   "outputs": [
    {
     "data": {
      "text/plain": [
       "array([  0,   1,   2,  14,  35,  40,  50,  58,  62,  63,  64,  65,  66,\n",
       "        67,  68,  79,  80,  88,  89,  96, 101, 116, 119, 129, 130, 131,\n",
       "       132, 133, 134, 135, 136, 147, 148, 149, 157, 158, 165, 166, 171,\n",
       "       172, 184, 187, 190, 198, 201, 202, 203, 204, 205, 206, 207, 208,\n",
       "       209, 210, 211, 219, 220, 221, 222, 223, 229, 230, 231, 232, 237,\n",
       "       238, 239, 243, 244, 249, 253, 256, 259, 262, 270, 272, 273, 274,\n",
       "       275, 276, 277, 278, 279, 280, 281, 282, 283, 284, 285, 286, 292,\n",
       "       293, 294, 295, 296, 297, 301, 302, 303, 304, 305, 306, 310, 311,\n",
       "       312, 313, 316, 317, 318, 322, 323, 326, 327, 328, 329, 330, 332,\n",
       "       333, 335, 336, 342, 343, 345, 346, 347, 348, 349, 350, 351, 354,\n",
       "       363, 367, 370, 371, 379, 381, 389, 393, 403, 406, 408, 411, 416,\n",
       "       422, 425, 428, 429])"
      ]
     },
     "execution_count": 13,
     "metadata": {},
     "output_type": "execute_result"
    }
   ],
   "source": [
    "subset = np.intersect1d(passed_1, passed_2)\n",
    "subset"
   ]
  },
  {
   "cell_type": "code",
   "execution_count": 14,
   "metadata": {
    "collapsed": false
   },
   "outputs": [
    {
     "data": {
      "text/plain": [
       "(147,)"
      ]
     },
     "execution_count": 14,
     "metadata": {},
     "output_type": "execute_result"
    }
   ],
   "source": [
    "subset.shape"
   ]
  },
  {
   "cell_type": "code",
   "execution_count": 15,
   "metadata": {},
   "outputs": [],
   "source": [
    "def constraint_bootstrap_ward_problem(take_forward, df_u, df_t, gamma):#\n",
    "    \"\"\"\n",
    "    run constraints bootstrap for both chance contraints.  \n",
    "    Return subset of systems that meets both constraints gamma% of the time.\n",
    "    Just used for cleaner code.\n",
    "    \n",
    "    Keyword arguments:\n",
    "    take_forward -- systems to test\n",
    "    df_u -- dataframe containing replications of utilisation measure\n",
    "    df_t -- dataframe containing replpications of patient transfers measure\n",
    "    gamma -- test criterion e.g. 0.7, 0.8\n",
    "    \n",
    "    \"\"\"\n",
    "    passed_1 = bootstrap_chance_constraint(data = df_u.values.T, threshold=min_util, nboots=N_BOOTS, gamma=gamma)\n",
    "    print(\"Systems meeting MIN Utilisation constraint: {0}\".format(passed_1.shape[0]))\n",
    "    \n",
    "    passed_2 = bootstrap_chance_constraint(data = df_t.values.T, threshold=max_tran, nboots=N_BOOTS, gamma=gamma, kind='upper')\n",
    "    print(\"Systems meeting MAX Patient Transfers constraint: {0}\".format(passed_2.shape[0]))\n",
    "          \n",
    "    mapped_1 = np.array([take_forward[x] for x in passed_1])\n",
    "    mapped_2 = np.array([take_forward[x] for x in passed_2])\n",
    "    \n",
    "    subset = np.intersect1d(mapped_1, mapped_2)\n",
    "    print(\"Systems meeting ALL constraints: {0}\".format(subset.shape[0]))\n",
    "    \n",
    "    return subset"
   ]
  },
  {
   "cell_type": "code",
   "execution_count": 16,
   "metadata": {},
   "outputs": [
    {
     "name": "stdout",
     "output_type": "stream",
     "text": [
      "Systems meeting MIN Utilisation constraint: 367\n",
      "Systems meeting MAX Patient Transfers constraint: 821\n",
      "Systems meeting ALL constraints: 145\n"
     ]
    }
   ],
   "source": [
    "subset = constraint_bootstrap_ward_problem([i for i in range(df_wait.shape[1])], df_util, df_tran, gamma_1)"
   ]
  },
  {
   "cell_type": "code",
   "execution_count": 17,
   "metadata": {},
   "outputs": [],
   "source": [
    "def get_best_subset(dfs, labels, subset):\n",
    "    \n",
    "    df_list = []\n",
    "    \n",
    "    for i in range(len(dfs)):      \n",
    "        df_sub = dfs[i][subset].mean()\n",
    "        df_sub.rename(labels[i], inplace=True)\n",
    "        df_list.append(df_sub)\n",
    "        \n",
    "    subset_kpi = pd.concat(df_list, axis=1)  \n",
    "    \n",
    "    best_system_index = subset_kpi.sort_values(by=labels).index[0]\n",
    "    \n",
    "    return best_system_index, subset_kpi\n"
   ]
  },
  {
   "cell_type": "markdown",
   "metadata": {},
   "source": [
    "List and rank the systems along with their peformance measures"
   ]
  },
  {
   "cell_type": "code",
   "execution_count": 26,
   "metadata": {},
   "outputs": [
    {
     "data": {
      "text/plain": [
       "354"
      ]
     },
     "execution_count": 26,
     "metadata": {},
     "output_type": "execute_result"
    }
   ],
   "source": [
    "best_system_index, subset_kpi = get_best_subset([df_wait, df_util, df_tran], ['wait', 'util', 'tran'], subset)\n",
    "best_system_index"
   ]
  },
  {
   "cell_type": "markdown",
   "metadata": {},
   "source": [
    "### Stage 1: Quality Bootstrap \n",
    "\n",
    "Define set $J$ where y% of bootstraps are within x% of the best mean\n",
    "\n",
    "\n"
   ]
  },
  {
   "cell_type": "code",
   "execution_count": 19,
   "metadata": {},
   "outputs": [
    {
     "name": "stdout",
     "output_type": "stream",
     "text": [
      "Help on function quality_bootstrap in module Bootstrap_crn:\n",
      "\n",
      "quality_bootstrap(feasible_systems, subset, best_system_index, args, x=0.1, y=0.95, nboots=1000)\n",
      "    1. Create differences of systems from best system\n",
      "    2. Create nboots bootstrap datasets of the differences\n",
      "    3. Return a DataFrame with all systems that are x% of feasible_systems[best_system_index] in y% of the boostrap samples\n",
      "    \n",
      "    Keyword arguments:\n",
      "    feasible_systems -- systems that meet chance constraints (if there are any)\n",
      "    subset -- list of system indexes that are feasible\n",
      "    best_system_index -- index of the best system within @feasible_systems\n",
      "    args - Instance of a BootstrapArguments class\n",
      "    x -- % tolerance of difference from best mean allowed (default = 0.1)\n",
      "    y -- % of boostrap samples that must be within tolerance x of best mean (default = 0.95)\n",
      "    nboots = number of bootstrap datasets to create (default = 1000)\n",
      "\n"
     ]
    }
   ],
   "source": [
    "help(quality_bootstrap)"
   ]
  },
  {
   "cell_type": "code",
   "execution_count": 31,
   "metadata": {},
   "outputs": [],
   "source": [
    "feasible_systems = df_wait[subset]\n",
    "take_forward = quality_bootstrap(feasible_systems, subset, best_system_index, args, x=x_1, y=y_1)\n"
   ]
  },
  {
   "cell_type": "code",
   "execution_count": 32,
   "metadata": {},
   "outputs": [
    {
     "data": {
      "text/plain": [
       "Int64Index([354, 355, 369, 381, 387, 389, 408, 413], dtype='int64')"
      ]
     },
     "execution_count": 32,
     "metadata": {},
     "output_type": "execute_result"
    }
   ],
   "source": [
    "take_forward"
   ]
  },
  {
   "cell_type": "code",
   "execution_count": 24,
   "metadata": {
    "collapsed": true
   },
   "outputs": [],
   "source": [
    "no_stage1 = take_forward.shape[0]"
   ]
  },
  {
   "cell_type": "markdown",
   "metadata": {},
   "source": [
    "_Quick look at stage 1 results_"
   ]
  },
  {
   "cell_type": "code",
   "execution_count": 24,
   "metadata": {
    "collapsed": false
   },
   "outputs": [
    {
     "data": {
      "text/html": [
       "<div>\n",
       "<style scoped>\n",
       "    .dataframe tbody tr th:only-of-type {\n",
       "        vertical-align: middle;\n",
       "    }\n",
       "\n",
       "    .dataframe tbody tr th {\n",
       "        vertical-align: top;\n",
       "    }\n",
       "\n",
       "    .dataframe thead th {\n",
       "        text-align: right;\n",
       "    }\n",
       "</style>\n",
       "<table border=\"1\" class=\"dataframe\">\n",
       "  <thead>\n",
       "    <tr style=\"text-align: right;\">\n",
       "      <th></th>\n",
       "      <th>Total beds</th>\n",
       "      <th>Size of Bays</th>\n",
       "      <th>Number of Bays</th>\n",
       "      <th>Number of Singles</th>\n",
       "      <th>wait</th>\n",
       "      <th>util</th>\n",
       "      <th>tran</th>\n",
       "    </tr>\n",
       "    <tr>\n",
       "      <th>System</th>\n",
       "      <th></th>\n",
       "      <th></th>\n",
       "      <th></th>\n",
       "      <th></th>\n",
       "      <th></th>\n",
       "      <th></th>\n",
       "      <th></th>\n",
       "    </tr>\n",
       "  </thead>\n",
       "  <tbody>\n",
       "    <tr>\n",
       "      <th>378</th>\n",
       "      <td>48</td>\n",
       "      <td>5</td>\n",
       "      <td>2</td>\n",
       "      <td>38</td>\n",
       "      <td>0.175423</td>\n",
       "      <td>80.812758</td>\n",
       "      <td>9.8</td>\n",
       "    </tr>\n",
       "    <tr>\n",
       "      <th>386</th>\n",
       "      <td>48</td>\n",
       "      <td>6</td>\n",
       "      <td>2</td>\n",
       "      <td>36</td>\n",
       "      <td>0.175423</td>\n",
       "      <td>80.812758</td>\n",
       "      <td>12.4</td>\n",
       "    </tr>\n",
       "    <tr>\n",
       "      <th>369</th>\n",
       "      <td>48</td>\n",
       "      <td>4</td>\n",
       "      <td>4</td>\n",
       "      <td>32</td>\n",
       "      <td>0.175423</td>\n",
       "      <td>80.812758</td>\n",
       "      <td>17.6</td>\n",
       "    </tr>\n",
       "    <tr>\n",
       "      <th>394</th>\n",
       "      <td>48</td>\n",
       "      <td>7</td>\n",
       "      <td>3</td>\n",
       "      <td>27</td>\n",
       "      <td>0.175423</td>\n",
       "      <td>80.812758</td>\n",
       "      <td>22.2</td>\n",
       "    </tr>\n",
       "    <tr>\n",
       "      <th>380</th>\n",
       "      <td>48</td>\n",
       "      <td>5</td>\n",
       "      <td>4</td>\n",
       "      <td>28</td>\n",
       "      <td>0.175423</td>\n",
       "      <td>80.812758</td>\n",
       "      <td>25.4</td>\n",
       "    </tr>\n",
       "    <tr>\n",
       "      <th>358</th>\n",
       "      <td>48</td>\n",
       "      <td>3</td>\n",
       "      <td>8</td>\n",
       "      <td>24</td>\n",
       "      <td>0.175423</td>\n",
       "      <td>80.812758</td>\n",
       "      <td>27.8</td>\n",
       "    </tr>\n",
       "    <tr>\n",
       "      <th>372</th>\n",
       "      <td>48</td>\n",
       "      <td>4</td>\n",
       "      <td>7</td>\n",
       "      <td>20</td>\n",
       "      <td>0.175423</td>\n",
       "      <td>80.818474</td>\n",
       "      <td>35.2</td>\n",
       "    </tr>\n",
       "    <tr>\n",
       "      <th>356</th>\n",
       "      <td>48</td>\n",
       "      <td>3</td>\n",
       "      <td>6</td>\n",
       "      <td>30</td>\n",
       "      <td>0.175594</td>\n",
       "      <td>80.812758</td>\n",
       "      <td>19.6</td>\n",
       "    </tr>\n",
       "    <tr>\n",
       "      <th>410</th>\n",
       "      <td>48</td>\n",
       "      <td>11</td>\n",
       "      <td>2</td>\n",
       "      <td>26</td>\n",
       "      <td>0.177724</td>\n",
       "      <td>80.812758</td>\n",
       "      <td>30.4</td>\n",
       "    </tr>\n",
       "  </tbody>\n",
       "</table>\n",
       "</div>"
      ],
      "text/plain": [
       "        Total beds  Size of Bays  Number of Bays  Number of Singles      wait  \\\n",
       "System                                                                          \n",
       "378             48             5               2                 38  0.175423   \n",
       "386             48             6               2                 36  0.175423   \n",
       "369             48             4               4                 32  0.175423   \n",
       "394             48             7               3                 27  0.175423   \n",
       "380             48             5               4                 28  0.175423   \n",
       "358             48             3               8                 24  0.175423   \n",
       "372             48             4               7                 20  0.175423   \n",
       "356             48             3               6                 30  0.175594   \n",
       "410             48            11               2                 26  0.177724   \n",
       "\n",
       "             util  tran  \n",
       "System                   \n",
       "378     80.812758   9.8  \n",
       "386     80.812758  12.4  \n",
       "369     80.812758  17.6  \n",
       "394     80.812758  22.2  \n",
       "380     80.812758  25.4  \n",
       "358     80.812758  27.8  \n",
       "372     80.818474  35.2  \n",
       "356     80.812758  19.6  \n",
       "410     80.812758  30.4  "
      ]
     },
     "execution_count": 24,
     "metadata": {},
     "output_type": "execute_result"
    }
   ],
   "source": [
    "df_doe = pd.read_csv(DESIGN, index_col='System')\n",
    "df_doe.index -= 1\n",
    "subset_kpi=  subset_kpi[subset_kpi.index.isin(take_forward)]\n",
    "temp = df_doe[df_doe.index.isin(take_forward)]\n",
    "df_stage1 = pd.concat([temp, subset_kpi], axis=1)\n",
    "df_stage1.sort_values(by=['wait', 'util', 'tran'])"
   ]
  },
  {
   "cell_type": "markdown",
   "metadata": {},
   "source": [
    "## 4. Procedure - Stage 2"
   ]
  },
  {
   "cell_type": "markdown",
   "metadata": {},
   "source": [
    "### More replicates of promising solutions using Common Random Numbers"
   ]
  },
  {
   "cell_type": "markdown",
   "metadata": {},
   "source": [
    "User simulates $ n_2 $ additional replicates for the feasible solutions brought forward from stage 1.\n",
    "\n",
    "Example = 50 replicates (45 extra)"
   ]
  },
  {
   "cell_type": "code",
   "execution_count": 25,
   "metadata": {},
   "outputs": [
    {
     "name": "stdout",
     "output_type": "stream",
     "text": [
      "Loaded waiting time data. 9 systems; 50 replications\n",
      "Loaded utilzation data. 9 systems; 50 replications\n",
      "Loaded transfers data. 9 systems; 50 replications\n"
     ]
    }
   ],
   "source": [
    "df_wait_s2, df_util_s2, df_tran_s2 = crn.simulate_stage_2(take_forward, MODEL_FILE1, MODEL_FILE2, MODEL_FILE3)"
   ]
  },
  {
   "cell_type": "markdown",
   "metadata": {},
   "source": [
    "### Stage 2 Constraints Bootstrap"
   ]
  },
  {
   "cell_type": "code",
   "execution_count": 26,
   "metadata": {},
   "outputs": [
    {
     "name": "stdout",
     "output_type": "stream",
     "text": [
      "Systems meeting MIN Utilisation constraint: 9\n",
      "Systems meeting MAX Patient Transfers constraint: 9\n",
      "Systems meeting ALL constraints: 9\n"
     ]
    }
   ],
   "source": [
    "subset = constraint_bootstrap_ward_problem(take_forward, df_util_s2, df_tran_s2, gamma_2)"
   ]
  },
  {
   "cell_type": "code",
   "execution_count": 27,
   "metadata": {},
   "outputs": [
    {
     "data": {
      "text/plain": [
       "369"
      ]
     },
     "execution_count": 27,
     "metadata": {},
     "output_type": "execute_result"
    }
   ],
   "source": [
    "best_system_index, subset_kpi = get_best_subset([df_wait_s2, df_util_s2, df_tran_s2], ['wait', 'util', 'tran'], subset)\n",
    "best_system_index"
   ]
  },
  {
   "cell_type": "markdown",
   "metadata": {},
   "source": [
    "### Stage 2 Quality Bootstrap"
   ]
  },
  {
   "cell_type": "code",
   "execution_count": 28,
   "metadata": {
    "collapsed": true
   },
   "outputs": [
    {
     "data": {
      "text/plain": [
       "(9,)"
      ]
     },
     "execution_count": 28,
     "metadata": {},
     "output_type": "execute_result"
    }
   ],
   "source": [
    "feasible_systems = df_wait_s2[subset]\n",
    "final_set = quality_bootstrap(feasible_systems, subset, best_system_index, args, x = x_2, y=y_2)\n",
    "final_set.shape"
   ]
  },
  {
   "cell_type": "markdown",
   "metadata": {},
   "source": [
    "## Visulise Final Solution"
   ]
  },
  {
   "cell_type": "code",
   "execution_count": 29,
   "metadata": {
    "collapsed": true
   },
   "outputs": [],
   "source": [
    "df_doe = pd.read_csv(DESIGN, index_col='System')\n",
    "df_doe.index -= 1 #subtract 1 from index so taht it matches zero indexing in analysis.\n"
   ]
  },
  {
   "cell_type": "code",
   "execution_count": 30,
   "metadata": {},
   "outputs": [],
   "source": [
    "def get_subset_kpi(subset):\n",
    "    subset_waits = df_wait_s2[subset].mean()\n",
    "    subset_waits.rename('wait', inplace=True)\n",
    "    subset_utils = df_util_s2[subset].mean()\n",
    "    subset_utils.rename('util', inplace=True)\n",
    "    subset_tran = df_tran_s2[subset].mean()\n",
    "    subset_tran.rename('tran', inplace=True)\n",
    "    \n",
    "    subset_kpi = pd.concat([subset_waits, subset_utils, subset_tran], axis=1)\n",
    "    subset_kpi.index.rename('System', inplace=True)\n",
    "    \n",
    "    return subset_kpi"
   ]
  },
  {
   "cell_type": "code",
   "execution_count": 31,
   "metadata": {
    "collapsed": false
   },
   "outputs": [],
   "source": [
    "subset_kpi = get_subset_kpi(final_set)"
   ]
  },
  {
   "cell_type": "code",
   "execution_count": 32,
   "metadata": {
    "collapsed": false
   },
   "outputs": [
    {
     "data": {
      "text/html": [
       "<div>\n",
       "<style scoped>\n",
       "    .dataframe tbody tr th:only-of-type {\n",
       "        vertical-align: middle;\n",
       "    }\n",
       "\n",
       "    .dataframe tbody tr th {\n",
       "        vertical-align: top;\n",
       "    }\n",
       "\n",
       "    .dataframe thead th {\n",
       "        text-align: right;\n",
       "    }\n",
       "</style>\n",
       "<table border=\"1\" class=\"dataframe\">\n",
       "  <thead>\n",
       "    <tr style=\"text-align: right;\">\n",
       "      <th></th>\n",
       "      <th>Total beds</th>\n",
       "      <th>Size of Bays</th>\n",
       "      <th>Number of Bays</th>\n",
       "      <th>Number of Singles</th>\n",
       "      <th>wait</th>\n",
       "      <th>util</th>\n",
       "      <th>tran</th>\n",
       "    </tr>\n",
       "    <tr>\n",
       "      <th>System</th>\n",
       "      <th></th>\n",
       "      <th></th>\n",
       "      <th></th>\n",
       "      <th></th>\n",
       "      <th></th>\n",
       "      <th></th>\n",
       "      <th></th>\n",
       "    </tr>\n",
       "  </thead>\n",
       "  <tbody>\n",
       "    <tr>\n",
       "      <th>369</th>\n",
       "      <td>48</td>\n",
       "      <td>4</td>\n",
       "      <td>4</td>\n",
       "      <td>32</td>\n",
       "      <td>0.204240</td>\n",
       "      <td>81.011203</td>\n",
       "      <td>22.70</td>\n",
       "    </tr>\n",
       "    <tr>\n",
       "      <th>378</th>\n",
       "      <td>48</td>\n",
       "      <td>5</td>\n",
       "      <td>2</td>\n",
       "      <td>38</td>\n",
       "      <td>0.204245</td>\n",
       "      <td>81.011717</td>\n",
       "      <td>15.88</td>\n",
       "    </tr>\n",
       "    <tr>\n",
       "      <th>386</th>\n",
       "      <td>48</td>\n",
       "      <td>6</td>\n",
       "      <td>2</td>\n",
       "      <td>36</td>\n",
       "      <td>0.204245</td>\n",
       "      <td>81.011717</td>\n",
       "      <td>19.18</td>\n",
       "    </tr>\n",
       "    <tr>\n",
       "      <th>356</th>\n",
       "      <td>48</td>\n",
       "      <td>3</td>\n",
       "      <td>6</td>\n",
       "      <td>30</td>\n",
       "      <td>0.204294</td>\n",
       "      <td>81.011717</td>\n",
       "      <td>25.40</td>\n",
       "    </tr>\n",
       "    <tr>\n",
       "      <th>380</th>\n",
       "      <td>48</td>\n",
       "      <td>5</td>\n",
       "      <td>4</td>\n",
       "      <td>28</td>\n",
       "      <td>0.204763</td>\n",
       "      <td>81.012860</td>\n",
       "      <td>29.68</td>\n",
       "    </tr>\n",
       "    <tr>\n",
       "      <th>358</th>\n",
       "      <td>48</td>\n",
       "      <td>3</td>\n",
       "      <td>8</td>\n",
       "      <td>24</td>\n",
       "      <td>0.205050</td>\n",
       "      <td>81.014004</td>\n",
       "      <td>35.30</td>\n",
       "    </tr>\n",
       "    <tr>\n",
       "      <th>410</th>\n",
       "      <td>48</td>\n",
       "      <td>11</td>\n",
       "      <td>2</td>\n",
       "      <td>26</td>\n",
       "      <td>0.206461</td>\n",
       "      <td>81.013032</td>\n",
       "      <td>36.22</td>\n",
       "    </tr>\n",
       "    <tr>\n",
       "      <th>394</th>\n",
       "      <td>48</td>\n",
       "      <td>7</td>\n",
       "      <td>3</td>\n",
       "      <td>27</td>\n",
       "      <td>0.207510</td>\n",
       "      <td>81.012861</td>\n",
       "      <td>31.02</td>\n",
       "    </tr>\n",
       "    <tr>\n",
       "      <th>372</th>\n",
       "      <td>48</td>\n",
       "      <td>4</td>\n",
       "      <td>7</td>\n",
       "      <td>20</td>\n",
       "      <td>0.207696</td>\n",
       "      <td>81.015718</td>\n",
       "      <td>42.28</td>\n",
       "    </tr>\n",
       "  </tbody>\n",
       "</table>\n",
       "</div>"
      ],
      "text/plain": [
       "        Total beds  Size of Bays  Number of Bays  Number of Singles      wait  \\\n",
       "System                                                                          \n",
       "369             48             4               4                 32  0.204240   \n",
       "378             48             5               2                 38  0.204245   \n",
       "386             48             6               2                 36  0.204245   \n",
       "356             48             3               6                 30  0.204294   \n",
       "380             48             5               4                 28  0.204763   \n",
       "358             48             3               8                 24  0.205050   \n",
       "410             48            11               2                 26  0.206461   \n",
       "394             48             7               3                 27  0.207510   \n",
       "372             48             4               7                 20  0.207696   \n",
       "\n",
       "             util   tran  \n",
       "System                    \n",
       "369     81.011203  22.70  \n",
       "378     81.011717  15.88  \n",
       "386     81.011717  19.18  \n",
       "356     81.011717  25.40  \n",
       "380     81.012860  29.68  \n",
       "358     81.014004  35.30  \n",
       "410     81.013032  36.22  \n",
       "394     81.012861  31.02  \n",
       "372     81.015718  42.28  "
      ]
     },
     "execution_count": 32,
     "metadata": {},
     "output_type": "execute_result"
    }
   ],
   "source": [
    "temp = df_doe[df_doe.index.isin(final_set)]\n",
    "#subset_kpi = subset_kpi.applymap(lambda x: '%.4f' % x)\n",
    "df_final = pd.concat([temp, subset_kpi], axis=1)\n",
    "df_final.sort_values(by=['wait', 'util', 'tran'])"
   ]
  },
  {
   "cell_type": "code",
   "execution_count": 33,
   "metadata": {
    "collapsed": false
   },
   "outputs": [
    {
     "name": "stdout",
     "output_type": "stream",
     "text": [
      "No. in final set 9\n"
     ]
    }
   ],
   "source": [
    "print('No. in final set {0}'.format(df_final.shape[0]))"
   ]
  },
  {
   "cell_type": "code",
   "execution_count": 34,
   "metadata": {
    "collapsed": false
   },
   "outputs": [
    {
     "name": "stdout",
     "output_type": "stream",
     "text": [
      "No. taken forward from stage 1: 9\n"
     ]
    }
   ],
   "source": [
    "print('No. taken forward from stage 1: {0}'.format(no_stage1))"
   ]
  },
  {
   "cell_type": "code",
   "execution_count": 35,
   "metadata": {
    "collapsed": true
   },
   "outputs": [],
   "source": [
    "df_final.to_clipboard(excel=True)"
   ]
  },
  {
   "cell_type": "markdown",
   "metadata": {},
   "source": [
    "## Charts for paper"
   ]
  },
  {
   "cell_type": "code",
   "execution_count": 36,
   "metadata": {
    "collapsed": true
   },
   "outputs": [],
   "source": [
    "df_doe = pd.read_csv(DESIGN, index_col='System')\n",
    "df_doe.index -= 1"
   ]
  },
  {
   "cell_type": "markdown",
   "metadata": {},
   "source": [
    "Utilisation"
   ]
  },
  {
   "cell_type": "code",
   "execution_count": 37,
   "metadata": {
    "collapsed": false
   },
   "outputs": [
    {
     "data": {
      "text/plain": [
       "<matplotlib.legend.Legend at 0x7fd7648f61d0>"
      ]
     },
     "execution_count": 37,
     "metadata": {},
     "output_type": "execute_result"
    },
    {
     "data": {
      "image/png": "[encoded data removed]",
      "text/plain": [
       "<Figure size 1440x576 with 2 Axes>"
      ]
     },
     "metadata": {
      "needs_background": "light"
     },
     "output_type": "display_data"
    }
   ],
   "source": [
    "temp = df_doe.loc[df_doe['Number of Bays']==0]\n",
    "#temp.index += 1\n",
    "subset_waits = df_wait[temp.index].mean()\n",
    "subset_waits.rename('wait', inplace=True)\n",
    "subset_utils = df_util[temp.index].mean()\n",
    "subset_utils.rename('util', inplace=True)\n",
    "subset_trans = df_tran[temp.index].mean()\n",
    "subset_trans.rename('tran', inplace=True)\n",
    "\n",
    "\n",
    "\n",
    "subset_utils_sem = df_util[temp.index].sem()\n",
    "subset_utils_sem.rename('util_sem', inplace=True)\n",
    "\n",
    "subset_utils_count = df_util[temp.index].count()\n",
    "subset_utils_count.rename('n_util', inplace=True)\n",
    "\n",
    "import scipy as sp\n",
    "import scipy.stats\n",
    "import seaborn as sns\n",
    "\n",
    "subset_kpi = pd.concat([temp, subset_waits, subset_utils, subset_trans, subset_utils_sem, subset_utils_count], axis = 1)\n",
    "subset_kpi['Waiting Time (hrs)'] = round(subset_kpi['wait']*24, 2)\n",
    "\n",
    "confidence = 0.95\n",
    "\n",
    "subset_kpi['hw_95'] = subset_kpi['util_sem'] * sp.stats.t.ppf((1+confidence)/2., subset_kpi['n_util']-1)\n",
    "\n",
    "#fig = plt.figure()\n",
    "#ax = fig.add_subplot(111)\n",
    "fig, axes = plt.subplots(nrows=1, ncols=2, sharey=False)\n",
    "\n",
    "subset_kpi.sort_values('util').plot(y = 'util', x= 'Number of Singles', figsize=(20, 8), fontsize = 18, \n",
    "                                    linewidth=3, legend =False, kind='scatter', ax=axes[1], xticks=[x for x in range(43, 56, 1)], xlim=(42, 56), yerr='hw_95')#, xlim=(70, 92), ylim=(0, 35))\n",
    "axes[0].set_ylabel('Mean Waiting Time (hrs)', fontsize = 18)\n",
    "axes[1].set_xlabel('Number of Singles (beds)', fontsize = 18)\n",
    "\n",
    "\n",
    "\n",
    "\n",
    "subset_kpi.plot('Number of Singles', 'Waiting Time (hrs)', figsize=(20, 8), fontsize = 18, \n",
    "                                    linewidth=3, legend =False, kind='line', ms=10, style='o-', ax=axes[0], xlim=(42, 56),\n",
    "                                    xticks=[x for x in range(43, 56, 1)])\n",
    "axes[0].set_xlabel('Number of Singles (beds)', fontsize = 18)\n",
    "axes[1].set_ylabel('Mean Utilization (% beds)', fontsize = 18)\n",
    "axes[0].grid(True)\n",
    "axes[1].grid(True)\n",
    "axes[1].legend(['mean (n=5)','95% Confidence Interval'],fontsize=18)\n",
    "#plt.tight_layout()"
   ]
  },
  {
   "cell_type": "code",
   "execution_count": 69,
   "metadata": {
    "collapsed": true
   },
   "outputs": [],
   "source": [
    "fig.savefig(\"chance_constraint_stage1.pdf\", format = 'pdf', dpi=600, bbox_inches='tight')"
   ]
  },
  {
   "cell_type": "code",
   "execution_count": 54,
   "metadata": {
    "collapsed": false
   },
   "outputs": [
    {
     "data": {
      "text/html": [
       "<div>\n",
       "<style scoped>\n",
       "    .dataframe tbody tr th:only-of-type {\n",
       "        vertical-align: middle;\n",
       "    }\n",
       "\n",
       "    .dataframe tbody tr th {\n",
       "        vertical-align: top;\n",
       "    }\n",
       "\n",
       "    .dataframe thead th {\n",
       "        text-align: right;\n",
       "    }\n",
       "</style>\n",
       "<table border=\"1\" class=\"dataframe\">\n",
       "  <thead>\n",
       "    <tr style=\"text-align: right;\">\n",
       "      <th></th>\n",
       "      <th>Total beds</th>\n",
       "      <th>Size of Bays</th>\n",
       "      <th>Number of Bays</th>\n",
       "      <th>Number of Singles</th>\n",
       "      <th>wait</th>\n",
       "      <th>util</th>\n",
       "      <th>tran</th>\n",
       "      <th>util_sem</th>\n",
       "      <th>n_util</th>\n",
       "      <th>Waiting Time (hrs)</th>\n",
       "      <th>hw_95</th>\n",
       "    </tr>\n",
       "    <tr>\n",
       "      <th>System</th>\n",
       "      <th></th>\n",
       "      <th></th>\n",
       "      <th></th>\n",
       "      <th></th>\n",
       "      <th></th>\n",
       "      <th></th>\n",
       "      <th></th>\n",
       "      <th></th>\n",
       "      <th></th>\n",
       "      <th></th>\n",
       "      <th></th>\n",
       "    </tr>\n",
       "  </thead>\n",
       "  <tbody>\n",
       "    <tr>\n",
       "      <th>0</th>\n",
       "      <td>43</td>\n",
       "      <td>0</td>\n",
       "      <td>0</td>\n",
       "      <td>43</td>\n",
       "      <td>1.376574</td>\n",
       "      <td>90.309120</td>\n",
       "      <td>0.2</td>\n",
       "      <td>2.133189</td>\n",
       "      <td>5</td>\n",
       "      <td>33.04</td>\n",
       "      <td>5.922683</td>\n",
       "    </tr>\n",
       "    <tr>\n",
       "      <th>66</th>\n",
       "      <td>44</td>\n",
       "      <td>0</td>\n",
       "      <td>0</td>\n",
       "      <td>44</td>\n",
       "      <td>0.909685</td>\n",
       "      <td>88.289688</td>\n",
       "      <td>0.0</td>\n",
       "      <td>2.112451</td>\n",
       "      <td>5</td>\n",
       "      <td>21.83</td>\n",
       "      <td>5.865104</td>\n",
       "    </tr>\n",
       "    <tr>\n",
       "      <th>134</th>\n",
       "      <td>45</td>\n",
       "      <td>0</td>\n",
       "      <td>0</td>\n",
       "      <td>45</td>\n",
       "      <td>0.605550</td>\n",
       "      <td>86.315501</td>\n",
       "      <td>0.0</td>\n",
       "      <td>2.084790</td>\n",
       "      <td>5</td>\n",
       "      <td>14.53</td>\n",
       "      <td>5.788305</td>\n",
       "    </tr>\n",
       "    <tr>\n",
       "      <th>206</th>\n",
       "      <td>46</td>\n",
       "      <td>0</td>\n",
       "      <td>0</td>\n",
       "      <td>46</td>\n",
       "      <td>0.401065</td>\n",
       "      <td>84.331723</td>\n",
       "      <td>0.0</td>\n",
       "      <td>2.036425</td>\n",
       "      <td>5</td>\n",
       "      <td>9.63</td>\n",
       "      <td>5.654023</td>\n",
       "    </tr>\n",
       "    <tr>\n",
       "      <th>279</th>\n",
       "      <td>47</td>\n",
       "      <td>0</td>\n",
       "      <td>0</td>\n",
       "      <td>47</td>\n",
       "      <td>0.256866</td>\n",
       "      <td>82.502992</td>\n",
       "      <td>0.0</td>\n",
       "      <td>1.977089</td>\n",
       "      <td>5</td>\n",
       "      <td>6.16</td>\n",
       "      <td>5.489280</td>\n",
       "    </tr>\n",
       "    <tr>\n",
       "      <th>352</th>\n",
       "      <td>48</td>\n",
       "      <td>0</td>\n",
       "      <td>0</td>\n",
       "      <td>48</td>\n",
       "      <td>0.175423</td>\n",
       "      <td>80.812758</td>\n",
       "      <td>0.0</td>\n",
       "      <td>1.955978</td>\n",
       "      <td>5</td>\n",
       "      <td>4.21</td>\n",
       "      <td>5.430665</td>\n",
       "    </tr>\n",
       "    <tr>\n",
       "      <th>432</th>\n",
       "      <td>49</td>\n",
       "      <td>0</td>\n",
       "      <td>0</td>\n",
       "      <td>49</td>\n",
       "      <td>0.112213</td>\n",
       "      <td>79.174713</td>\n",
       "      <td>0.0</td>\n",
       "      <td>1.909494</td>\n",
       "      <td>5</td>\n",
       "      <td>2.69</td>\n",
       "      <td>5.301605</td>\n",
       "    </tr>\n",
       "    <tr>\n",
       "      <th>513</th>\n",
       "      <td>50</td>\n",
       "      <td>0</td>\n",
       "      <td>0</td>\n",
       "      <td>50</td>\n",
       "      <td>0.076849</td>\n",
       "      <td>77.602194</td>\n",
       "      <td>0.0</td>\n",
       "      <td>1.876105</td>\n",
       "      <td>5</td>\n",
       "      <td>1.84</td>\n",
       "      <td>5.208902</td>\n",
       "    </tr>\n",
       "    <tr>\n",
       "      <th>597</th>\n",
       "      <td>51</td>\n",
       "      <td>0</td>\n",
       "      <td>0</td>\n",
       "      <td>51</td>\n",
       "      <td>0.048801</td>\n",
       "      <td>76.085963</td>\n",
       "      <td>0.0</td>\n",
       "      <td>1.846766</td>\n",
       "      <td>5</td>\n",
       "      <td>1.17</td>\n",
       "      <td>5.127445</td>\n",
       "    </tr>\n",
       "    <tr>\n",
       "      <th>683</th>\n",
       "      <td>52</td>\n",
       "      <td>0</td>\n",
       "      <td>0</td>\n",
       "      <td>52</td>\n",
       "      <td>0.031773</td>\n",
       "      <td>74.633322</td>\n",
       "      <td>0.0</td>\n",
       "      <td>1.814432</td>\n",
       "      <td>5</td>\n",
       "      <td>0.76</td>\n",
       "      <td>5.037671</td>\n",
       "    </tr>\n",
       "    <tr>\n",
       "      <th>772</th>\n",
       "      <td>53</td>\n",
       "      <td>0</td>\n",
       "      <td>0</td>\n",
       "      <td>53</td>\n",
       "      <td>0.018523</td>\n",
       "      <td>73.235500</td>\n",
       "      <td>0.0</td>\n",
       "      <td>1.784684</td>\n",
       "      <td>5</td>\n",
       "      <td>0.44</td>\n",
       "      <td>4.955077</td>\n",
       "    </tr>\n",
       "    <tr>\n",
       "      <th>861</th>\n",
       "      <td>54</td>\n",
       "      <td>0</td>\n",
       "      <td>0</td>\n",
       "      <td>54</td>\n",
       "      <td>0.010493</td>\n",
       "      <td>71.869125</td>\n",
       "      <td>0.0</td>\n",
       "      <td>1.747914</td>\n",
       "      <td>5</td>\n",
       "      <td>0.25</td>\n",
       "      <td>4.852987</td>\n",
       "    </tr>\n",
       "    <tr>\n",
       "      <th>955</th>\n",
       "      <td>55</td>\n",
       "      <td>0</td>\n",
       "      <td>0</td>\n",
       "      <td>55</td>\n",
       "      <td>0.005231</td>\n",
       "      <td>70.552437</td>\n",
       "      <td>0.0</td>\n",
       "      <td>1.713202</td>\n",
       "      <td>5</td>\n",
       "      <td>0.13</td>\n",
       "      <td>4.756612</td>\n",
       "    </tr>\n",
       "  </tbody>\n",
       "</table>\n",
       "</div>"
      ],
      "text/plain": [
       "        Total beds  Size of Bays  Number of Bays  Number of Singles      wait  \\\n",
       "System                                                                          \n",
       "0               43             0               0                 43  1.376574   \n",
       "66              44             0               0                 44  0.909685   \n",
       "134             45             0               0                 45  0.605550   \n",
       "206             46             0               0                 46  0.401065   \n",
       "279             47             0               0                 47  0.256866   \n",
       "352             48             0               0                 48  0.175423   \n",
       "432             49             0               0                 49  0.112213   \n",
       "513             50             0               0                 50  0.076849   \n",
       "597             51             0               0                 51  0.048801   \n",
       "683             52             0               0                 52  0.031773   \n",
       "772             53             0               0                 53  0.018523   \n",
       "861             54             0               0                 54  0.010493   \n",
       "955             55             0               0                 55  0.005231   \n",
       "\n",
       "             util  tran  util_sem  n_util  Waiting Time (hrs)     hw_95  \n",
       "System                                                                   \n",
       "0       90.309120   0.2  2.133189       5               33.04  5.922683  \n",
       "66      88.289688   0.0  2.112451       5               21.83  5.865104  \n",
       "134     86.315501   0.0  2.084790       5               14.53  5.788305  \n",
       "206     84.331723   0.0  2.036425       5                9.63  5.654023  \n",
       "279     82.502992   0.0  1.977089       5                6.16  5.489280  \n",
       "352     80.812758   0.0  1.955978       5                4.21  5.430665  \n",
       "432     79.174713   0.0  1.909494       5                2.69  5.301605  \n",
       "513     77.602194   0.0  1.876105       5                1.84  5.208902  \n",
       "597     76.085963   0.0  1.846766       5                1.17  5.127445  \n",
       "683     74.633322   0.0  1.814432       5                0.76  5.037671  \n",
       "772     73.235500   0.0  1.784684       5                0.44  4.955077  \n",
       "861     71.869125   0.0  1.747914       5                0.25  4.852987  \n",
       "955     70.552437   0.0  1.713202       5                0.13  4.756612  "
      ]
     },
     "execution_count": 54,
     "metadata": {},
     "output_type": "execute_result"
    }
   ],
   "source": [
    "subset_kpi"
   ]
  }
 ],
 "metadata": {
  "kernelspec": {
   "display_name": "Python 3",
   "language": "python",
   "name": "python3"
  },
  "language_info": {
   "codemirror_mode": {
    "name": "ipython",
    "version": 3
   },
   "file_extension": ".py",
   "mimetype": "text/x-python",
   "name": "python",
   "nbconvert_exporter": "python",
   "pygments_lexer": "ipython3",
   "version": "3.7.0"
  }
 },
 "nbformat": 4,
 "nbformat_minor": 2
}
